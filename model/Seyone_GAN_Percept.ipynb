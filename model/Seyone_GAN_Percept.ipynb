{
  "nbformat": 4,
  "nbformat_minor": 0,
  "metadata": {
    "colab": {
      "name": "Seyone_GAN_Percept.ipynb",
      "provenance": [],
      "collapsed_sections": [],
      "include_colab_link": true
    },
    "kernelspec": {
      "name": "python3",
      "display_name": "Python 3"
    },
    "accelerator": "GPU"
  },
  "cells": [
    {
      "cell_type": "markdown",
      "metadata": {
        "id": "view-in-github",
        "colab_type": "text"
      },
      "source": [
      ]
    },
    {
      "cell_type": "code",
      "metadata": {
        "id": "C7ai63PAdye4",
        "colab_type": "code",
        "colab": {
          "base_uri": "https://localhost:8080/",
          "height": 79
        },
        "outputId": "067af7ec-4e78-4636-f31a-1d0fc575c9e6"
      },
      "source": [
        "from __future__ import absolute_import\n",
        "from __future__ import division\n",
        "from __future__ import print_function\n",
        "import keras\n",
        "from keras.layers.advanced_activations import LeakyReLU\n",
        "from keras.layers import Activation, Dense, Input, Dropout\n",
        "from keras.layers import Conv2D, Flatten\n",
        "from keras.layers import Reshape, Conv2DTranspose\n",
        "from keras.models import Model\n",
        "from keras import backend as K\n",
        "from keras.datasets import mnist\n",
        "import numpy as np\n",
        "import matplotlib.pyplot as plt\n",
        "from PIL import Image\n",
        "import os, cv2\n",
        "import tensorflow as tf\n",
        "from keras import losses\n",
        "from keras.optimizers import SGD,RMSprop,adam\n",
        "from keras.layers import Reshape, Conv2DTranspose, BatchNormalization, ZeroPadding2D\n",
        "from keras.models import load_model\n",
        "from IPython.display import clear_output\n",
        "from sklearn.utils import shuffle\n",
        "from keras.utils import np_utils\n",
        "from keras.models import Sequential"
      ],
      "execution_count": 1,
      "outputs": [
        {
          "output_type": "stream",
          "text": [
            "Using TensorFlow backend.\n"
          ],
          "name": "stderr"
        },
        {
          "output_type": "display_data",
          "data": {
            "text/html": [
              "<p style=\"color: red;\">\n",
              "The default version of TensorFlow in Colab will soon switch to TensorFlow 2.x.<br>\n",
              "We recommend you <a href=\"https://www.tensorflow.org/guide/migrate\" target=\"_blank\">upgrade</a> now \n",
              "or ensure your notebook will continue to use TensorFlow 1.x via the <code>%tensorflow_version 1.x</code> magic:\n",
              "<a href=\"https://colab.research.google.com/notebooks/tensorflow_version.ipynb\" target=\"_blank\">more info</a>.</p>\n"
            ],
            "text/plain": [
              "<IPython.core.display.HTML object>"
            ]
          },
          "metadata": {
            "tags": []
          }
        }
      ]
    },
    {
      "cell_type": "code",
      "metadata": {
        "id": "Hmh9juK7iOge",
        "colab_type": "code",
        "outputId": "ec2defaf-09cb-4b81-df38-312bb4908bbb",
        "colab": {
          "base_uri": "https://localhost:8080/",
          "height": 121
        }
      },
      "source": [
        "from google.colab import drive\n",
        "drive.mount('/content/drive')"
      ],
      "execution_count": 2,
      "outputs": [
        {
          "output_type": "stream",
          "text": [
            "Go to this URL in a browser: https://accounts.google.com/o/oauth2/auth?client_id=947318989803-6bn6qk8qdgf4n4g3pfee6491hc0brc4i.apps.googleusercontent.com&redirect_uri=urn%3aietf%3awg%3aoauth%3a2.0%3aoob&response_type=code&scope=email%20https%3a%2f%2fwww.googleapis.com%2fauth%2fdocs.test%20https%3a%2f%2fwww.googleapis.com%2fauth%2fdrive%20https%3a%2f%2fwww.googleapis.com%2fauth%2fdrive.photos.readonly%20https%3a%2f%2fwww.googleapis.com%2fauth%2fpeopleapi.readonly\n",
            "\n",
            "Enter your authorization code:\n",
            "··········\n",
            "Mounted at /content/drive\n"
          ],
          "name": "stdout"
        }
      ]
    },
    {
      "cell_type": "code",
      "metadata": {
        "id": "_ba1QHaoWzYA",
        "colab_type": "code",
        "colab": {
          "base_uri": "https://localhost:8080/",
          "height": 302
        },
        "outputId": "a05c3805-4399-4615-c62f-5127cbdae918"
      },
      "source": [
        "!nvidia-smi"
      ],
      "execution_count": 3,
      "outputs": [
        {
          "output_type": "stream",
          "text": [
            "Sun Feb  2 00:44:50 2020       \n",
            "+-----------------------------------------------------------------------------+\n",
            "| NVIDIA-SMI 440.44       Driver Version: 418.67       CUDA Version: 10.1     |\n",
            "|-------------------------------+----------------------+----------------------+\n",
            "| GPU  Name        Persistence-M| Bus-Id        Disp.A | Volatile Uncorr. ECC |\n",
            "| Fan  Temp  Perf  Pwr:Usage/Cap|         Memory-Usage | GPU-Util  Compute M. |\n",
            "|===============================+======================+======================|\n",
            "|   0  Tesla T4            Off  | 00000000:00:04.0 Off |                    0 |\n",
            "| N/A   53C    P8    14W /  70W |      0MiB / 15079MiB |      0%      Default |\n",
            "+-------------------------------+----------------------+----------------------+\n",
            "                                                                               \n",
            "+-----------------------------------------------------------------------------+\n",
            "| Processes:                                                       GPU Memory |\n",
            "|  GPU       PID   Type   Process name                             Usage      |\n",
            "|=============================================================================|\n",
            "|  No running processes found                                                 |\n",
            "+-----------------------------------------------------------------------------+\n"
          ],
          "name": "stdout"
        }
      ]
    },
    {
      "cell_type": "code",
      "metadata": {
        "id": "KCoTgauOh6Dj",
        "colab_type": "code",
        "outputId": "0b2e06c1-3ad5-489d-a7ef-8d4f67143c22",
        "colab": {
          "base_uri": "https://localhost:8080/",
          "height": 34
        }
      },
      "source": [
        "from zipfile import ZipFile\n",
        "file_name = \"/content/Meta.zip\"\n",
        "\n",
        "with ZipFile(file_name, 'r') as zip:\n",
        "  zip.extractall()\n",
        "  print('Done')"
      ],
      "execution_count": 4,
      "outputs": [
        {
          "output_type": "stream",
          "text": [
            "Done\n"
          ],
          "name": "stdout"
        }
      ]
    },
    {
      "cell_type": "code",
      "metadata": {
        "id": "qCTf_Cp0eDwe",
        "colab_type": "code",
        "outputId": "33157450-3d09-4fa9-8844-03c835afad54",
        "colab": {
          "base_uri": "https://localhost:8080/",
          "height": 1000
        }
      },
      "source": [
        "PATH = os.getcwd()\n",
        "# Define data path\n",
        "data_path = \"/content/drive/My Drive/Meta\"\n",
        "data_dir_list = os.listdir(data_path)\n",
        "print (data_dir_list)\n",
        "img_rows=100\n",
        "img_cols=100\n",
        "num_channel =3\n",
        "\n",
        "img_data_list=[]\n",
        "img_target_list=[]\n",
        "pos = []\n",
        "count=0\n",
        "print(\"Working....\")\n",
        "for img in data_dir_list:\n",
        "    if (img.find(\"png\")!=-1):\n",
        "      path =  os.path.join(data_path, img)\n",
        "      input_img = cv2.imread(path)\n",
        "      input_img=cv2.resize(input_img,(img_rows,img_cols))\n",
        "      print(input_img.shape)\n",
        "      img_data_list.append(input_img)\n",
        "    else:\n",
        "      pos.append(count)\n",
        "      print (img)\n",
        "      data_dir_list.remove(img)\n",
        "    count+=1\n",
        "    if(count%1000==0):\n",
        "        print(count)\n",
        "    if(count == 12):\n",
        "        imgplt=plt.imshow(input_img)\n",
        "        plt.show()\n",
        "print(\"Done loading Training\")\n",
        "img_data = np.array(img_data_list)\n",
        "img_data = img_data.astype('float32')\n",
        "img_data /= 255\n",
        "print(\"Done Transforming\")\n",
        "print (img_data.shape[0])\n",
        "print (img_data[0].shape)\n",
        "print(\"Completed!\")\n",
        "x_train = img_data[0:100,:,:,:]\n",
        "x_test = img_data[101:104,:,:,:]\n",
        "count=0\n",
        "print (x_test.shape)\n",
        "print(x_train.shape)\n",
        "count=0\n",
        "\n",
        "for img in data_dir_list:\n",
        "    print (img)\n",
        "    path =  os.path.join(data_path, img)\n",
        "    input_img = cv2.imread(path)\n",
        "    target_img=cv2.resize(input_img,(400,400))\n",
        "    print (target_img.shape)\n",
        "    img_target_list.append(target_img)\n",
        "    if pos.index(count):\n",
        "       img_target_list.remove(img)\n",
        "    count+=1\n",
        "    if(count%1000==0):\n",
        "        print(count)\n",
        "    if(count == 12):\n",
        "        imgplt=plt.imshow(target_img)\n",
        "        plt.show()\n",
        "print(\"Done loading target\")\n",
        "target_data = np.array(img_target_list)\n",
        "target_data = target_data.astype('float32')\n",
        "target_data /= 255\n",
        "print(\"Done Transforming\")\n",
        "print (target_data[0].shape)\n",
        "print(\"Completed!\")\n",
        "target_data_train = target_data[0:100,:,:,:]\n",
        "print (len(target_data_train))\n",
        "target_data_test = target_data[101:104,:,:,:]"
      ],
      "execution_count": 67,
      "outputs": [
        {
          "output_type": "stream",
          "text": [
            "['35.png', '4.png', '18.png', '38.png', '39.png', '30.png', '23.png', '24.png', '34.png', '13.png', '12.png', '22.png', '33.png', '9.png', '15.png', '11.png', '37.png', '42.png', '25.png', '31.png', '16.png', '14.png', '.~lock.ClassesInformationStrong.ods#', '20.png', '28.png', '8.png', '3.png', '5.png', '2.png', '26.png', '36.png', '27.png', '17.png', '41.png', '.~lock.ClassesInformation.ods#', '1.png', '0.png', '40.png', '6.png', '32.png', '19.png', '21.png', '10.png', '7.png', '29.png']\n",
            "Working....\n",
            "(100, 100, 3)\n",
            "(100, 100, 3)\n",
            "(100, 100, 3)\n",
            "(100, 100, 3)\n",
            "(100, 100, 3)\n",
            "(100, 100, 3)\n",
            "(100, 100, 3)\n",
            "(100, 100, 3)\n",
            "(100, 100, 3)\n",
            "(100, 100, 3)\n",
            "(100, 100, 3)\n",
            "(100, 100, 3)\n"
          ],
          "name": "stdout"
        },
        {
          "output_type": "display_data",
          "data": {
            "image/png": "[encoded data removed]",
            "text/plain": [
              "<Figure size 432x288 with 1 Axes>"
            ]
          },
          "metadata": {
            "tags": []
          }
        },
        {
          "output_type": "stream",
          "text": [
            "(100, 100, 3)\n",
            "(100, 100, 3)\n",
            "(100, 100, 3)\n",
            "(100, 100, 3)\n",
            "(100, 100, 3)\n",
            "(100, 100, 3)\n",
            "(100, 100, 3)\n",
            "(100, 100, 3)\n",
            "(100, 100, 3)\n",
            "(100, 100, 3)\n",
            ".~lock.ClassesInformationStrong.ods#\n",
            "(100, 100, 3)\n",
            "(100, 100, 3)\n",
            "(100, 100, 3)\n",
            "(100, 100, 3)\n",
            "(100, 100, 3)\n",
            "(100, 100, 3)\n",
            "(100, 100, 3)\n",
            "(100, 100, 3)\n",
            "(100, 100, 3)\n",
            "(100, 100, 3)\n",
            ".~lock.ClassesInformation.ods#\n",
            "(100, 100, 3)\n",
            "(100, 100, 3)\n",
            "(100, 100, 3)\n",
            "(100, 100, 3)\n",
            "(100, 100, 3)\n",
            "(100, 100, 3)\n",
            "(100, 100, 3)\n",
            "(100, 100, 3)\n",
            "(100, 100, 3)\n",
            "Done loading Training\n",
            "Done Transforming\n",
            "41\n",
            "(100, 100, 3)\n",
            "Completed!\n",
            "(0, 100, 100, 3)\n",
            "(41, 100, 100, 3)\n",
            "35.png\n",
            "(400, 400, 3)\n"
          ],
          "name": "stdout"
        },
        {
          "output_type": "error",
          "ename": "ValueError",
          "evalue": "ignored",
          "traceback": [
            "\u001b[0;31m---------------------------------------------------------------------------\u001b[0m",
            "\u001b[0;31mValueError\u001b[0m                                Traceback (most recent call last)",
            "\u001b[0;32m<ipython-input-67-975a61c4cd9e>\u001b[0m in \u001b[0;36m<module>\u001b[0;34m()\u001b[0m\n\u001b[1;32m     52\u001b[0m     \u001b[0mprint\u001b[0m \u001b[0;34m(\u001b[0m\u001b[0mtarget_img\u001b[0m\u001b[0;34m.\u001b[0m\u001b[0mshape\u001b[0m\u001b[0;34m)\u001b[0m\u001b[0;34m\u001b[0m\u001b[0;34m\u001b[0m\u001b[0m\n\u001b[1;32m     53\u001b[0m     \u001b[0mimg_target_list\u001b[0m\u001b[0;34m.\u001b[0m\u001b[0mappend\u001b[0m\u001b[0;34m(\u001b[0m\u001b[0mtarget_img\u001b[0m\u001b[0;34m)\u001b[0m\u001b[0;34m\u001b[0m\u001b[0;34m\u001b[0m\u001b[0m\n\u001b[0;32m---> 54\u001b[0;31m     \u001b[0;32mif\u001b[0m \u001b[0mpos\u001b[0m\u001b[0;34m.\u001b[0m\u001b[0mindex\u001b[0m\u001b[0;34m(\u001b[0m\u001b[0mcount\u001b[0m\u001b[0;34m)\u001b[0m\u001b[0;34m:\u001b[0m\u001b[0;34m\u001b[0m\u001b[0;34m\u001b[0m\u001b[0m\n\u001b[0m\u001b[1;32m     55\u001b[0m        \u001b[0mimg_target_list\u001b[0m\u001b[0;34m.\u001b[0m\u001b[0mremove\u001b[0m\u001b[0;34m(\u001b[0m\u001b[0mimg\u001b[0m\u001b[0;34m)\u001b[0m\u001b[0;34m\u001b[0m\u001b[0;34m\u001b[0m\u001b[0m\n\u001b[1;32m     56\u001b[0m     \u001b[0mcount\u001b[0m\u001b[0;34m+=\u001b[0m\u001b[0;36m1\u001b[0m\u001b[0;34m\u001b[0m\u001b[0;34m\u001b[0m\u001b[0m\n",
            "\u001b[0;31mValueError\u001b[0m: 0 is not in list"
          ]
        }
      ]
    },
    {
      "cell_type": "code",
      "metadata": {
        "id": "12Ks-GVNjl5W",
        "colab_type": "code",
        "colab": {}
      },
      "source": [
        "# Network parameters\n",
        "input_shape = (100, 100, 3)\n",
        "batch_size = 1\n",
        "kernel_size = 3\n",
        "latent_dim = 64\n",
        "# Encoder/Decoder number of CNN layers and filters per layer\n",
        "layer_filters = [32, 64]"
      ],
      "execution_count": 0,
      "outputs": []
    },
    {
      "cell_type": "code",
      "metadata": {
        "id": "-AkmKL9Xjque",
        "colab_type": "code",
        "outputId": "a6f6fc0c-4970-4852-e3a1-dd01ea528cc7",
        "colab": {
          "base_uri": "https://localhost:8080/",
          "height": 454
        }
      },
      "source": [
        "inputs = Input(shape=input_shape, name='encoder_input')\n",
        "x = inputs\n",
        "for filters in layer_filters:\n",
        "    x = Conv2D(filters=filters,\n",
        "               kernel_size=kernel_size,\n",
        "               strides=2,\n",
        "               padding='same', kernel_initializer='glorot_normal')(x)\n",
        "    x = BatchNormalization()(x)\n",
        "    x = LeakyReLU(alpha=0.2)(x)\n",
        "shape = K.int_shape(x)\n",
        "x = Flatten()(x)\n",
        "latent = Dense(latent_dim, name='latent_vector')(x)\n",
        "encoder = Model(inputs, latent, name='encoder')\n",
        "encoder.summary()"
      ],
      "execution_count": 49,
      "outputs": [
        {
          "output_type": "stream",
          "text": [
            "Model: \"encoder\"\n",
            "_________________________________________________________________\n",
            "Layer (type)                 Output Shape              Param #   \n",
            "=================================================================\n",
            "encoder_input (InputLayer)   (None, 100, 100, 3)       0         \n",
            "_________________________________________________________________\n",
            "conv2d_19 (Conv2D)           (None, 50, 50, 32)        896       \n",
            "_________________________________________________________________\n",
            "batch_normalization_40 (Batc (None, 50, 50, 32)        128       \n",
            "_________________________________________________________________\n",
            "leaky_re_lu_39 (LeakyReLU)   (None, 50, 50, 32)        0         \n",
            "_________________________________________________________________\n",
            "conv2d_20 (Conv2D)           (None, 25, 25, 64)        18496     \n",
            "_________________________________________________________________\n",
            "batch_normalization_41 (Batc (None, 25, 25, 64)        256       \n",
            "_________________________________________________________________\n",
            "leaky_re_lu_40 (LeakyReLU)   (None, 25, 25, 64)        0         \n",
            "_________________________________________________________________\n",
            "flatten_7 (Flatten)          (None, 40000)             0         \n",
            "_________________________________________________________________\n",
            "latent_vector (Dense)        (None, 64)                2560064   \n",
            "=================================================================\n",
            "Total params: 2,579,840\n",
            "Trainable params: 2,579,648\n",
            "Non-trainable params: 192\n",
            "_________________________________________________________________\n"
          ],
          "name": "stdout"
        }
      ]
    },
    {
      "cell_type": "code",
      "metadata": {
        "id": "46aNLdhljsuH",
        "colab_type": "code",
        "outputId": "594d2c7b-35dd-45f0-9f4b-26c89afbb8cd",
        "colab": {
          "base_uri": "https://localhost:8080/",
          "height": 689
        }
      },
      "source": [
        "latent_inputs = Input(shape=(latent_dim,), name='decoder_input')\n",
        "x = Dense(shape[1] * shape[2] * shape[3])(latent_inputs)\n",
        "x = Reshape((shape[1], shape[2], shape[3]))(x)\n",
        "x = Conv2DTranspose(filters=64,kernel_size=kernel_size, strides=2, padding='same' ,kernel_initializer='glorot_normal')(x)\n",
        "x = BatchNormalization()(x)\n",
        "x = LeakyReLU(alpha=0.2)(x)\n",
        "x = Conv2DTranspose(filters=32,kernel_size=kernel_size, strides=2, padding='same' ,kernel_initializer='glorot_normal')(x)\n",
        "x = BatchNormalization()(x)\n",
        "x = LeakyReLU(alpha=0.2)(x)\n",
        "x = Conv2DTranspose(filters=3,kernel_size=kernel_size, strides=2, padding='same' ,kernel_initializer='glorot_normal')(x)\n",
        "x = BatchNormalization()(x)\n",
        "x = LeakyReLU(alpha=0.2)(x)\n",
        "x = Conv2DTranspose(filters=3,kernel_size=kernel_size, strides=2, padding='same' ,kernel_initializer='glorot_normal')(x)\n",
        "x = BatchNormalization()(x)\n",
        "x = LeakyReLU(alpha=0.2)(x)\n",
        "# for filters in layer_filters[::-1]:\n",
        "#     x = Conv2DTranspose(filters=filters,kernel_size=kernel_size, strides=2, padding='same' ,kernel_initializer='glorot_normal')(x)\n",
        "#     x = BatchNormalization()(x)\n",
        "#     x = LeakyReLU(alpha=0.2)(x)\n",
        "#x = Conv2DTranspose(filters=3, kernel_size=kernel_size, strides=2, padding='same', kernel_initializer='glorot_normal')(x)\n",
        "#x = BatchNormalization()(x)\n",
        "#x = LeakyReLU(alpha=0.2)(x)\n",
        "#x = Conv2DTranspose(filters=3, kernel_size=kernel_size, strides=2, padding='same', kernel_initializer='glorot_normal')(x)\n",
        "#x = BatchNormalization()(x)\n",
        "#x = LeakyReLU(alpha=0.2)(x)\n",
        "#x = Conv2DTranspose(filters=3, kernel_size=kernel_size, padding='same', kernel_initializer='glorot_normal')(x)\n",
        "#x = BatchNormalization()(x)\n",
        "outputs = Activation('sigmoid', name='decoder_output')(x)\n",
        "\n",
        "# Instantiate Decoder Model\n",
        "decoder = Model(latent_inputs, outputs, name='decoder')\n",
        "decoder.summary()"
      ],
      "execution_count": 51,
      "outputs": [
        {
          "output_type": "stream",
          "text": [
            "Model: \"decoder\"\n",
            "_________________________________________________________________\n",
            "Layer (type)                 Output Shape              Param #   \n",
            "=================================================================\n",
            "decoder_input (InputLayer)   (None, 64)                0         \n",
            "_________________________________________________________________\n",
            "dense_12 (Dense)             (None, 40000)             2600000   \n",
            "_________________________________________________________________\n",
            "reshape_9 (Reshape)          (None, 25, 25, 64)        0         \n",
            "_________________________________________________________________\n",
            "conv2d_transpose_24 (Conv2DT (None, 50, 50, 64)        36928     \n",
            "_________________________________________________________________\n",
            "batch_normalization_45 (Batc (None, 50, 50, 64)        256       \n",
            "_________________________________________________________________\n",
            "leaky_re_lu_44 (LeakyReLU)   (None, 50, 50, 64)        0         \n",
            "_________________________________________________________________\n",
            "conv2d_transpose_25 (Conv2DT (None, 100, 100, 32)      18464     \n",
            "_________________________________________________________________\n",
            "batch_normalization_46 (Batc (None, 100, 100, 32)      128       \n",
            "_________________________________________________________________\n",
            "leaky_re_lu_45 (LeakyReLU)   (None, 100, 100, 32)      0         \n",
            "_________________________________________________________________\n",
            "conv2d_transpose_26 (Conv2DT (None, 200, 200, 3)       867       \n",
            "_________________________________________________________________\n",
            "batch_normalization_47 (Batc (None, 200, 200, 3)       12        \n",
            "_________________________________________________________________\n",
            "leaky_re_lu_46 (LeakyReLU)   (None, 200, 200, 3)       0         \n",
            "_________________________________________________________________\n",
            "conv2d_transpose_27 (Conv2DT (None, 400, 400, 3)       84        \n",
            "_________________________________________________________________\n",
            "batch_normalization_48 (Batc (None, 400, 400, 3)       12        \n",
            "_________________________________________________________________\n",
            "leaky_re_lu_47 (LeakyReLU)   (None, 400, 400, 3)       0         \n",
            "_________________________________________________________________\n",
            "decoder_output (Activation)  (None, 400, 400, 3)       0         \n",
            "=================================================================\n",
            "Total params: 2,656,751\n",
            "Trainable params: 2,656,547\n",
            "Non-trainable params: 204\n",
            "_________________________________________________________________\n"
          ],
          "name": "stdout"
        }
      ]
    },
    {
      "cell_type": "code",
      "metadata": {
        "id": "l0uVWYBvjwy9",
        "colab_type": "code",
        "outputId": "9d6c10f6-5260-404d-9bc3-f875a98ca4a7",
        "colab": {
          "base_uri": "https://localhost:8080/",
          "height": 689
        }
      },
      "source": [
        "disc_inputs = Input(shape=(400,400,3), name='disc_input')\n",
        "x = disc_inputs\n",
        "x = Conv2D(filters=3, kernel_size=kernel_size,strides=1, padding='same', kernel_initializer='glorot_normal')(x)\n",
        "x = BatchNormalization()(x)\n",
        "x = LeakyReLU(alpha=0.2)(x)\n",
        "x = Conv2D(filters=32, kernel_size=kernel_size,strides=2, padding='same', kernel_initializer='glorot_normal')(x)\n",
        "x = BatchNormalization()(x)\n",
        "x = LeakyReLU(alpha=0.2)(x)\n",
        "x = Conv2D(filters=64, kernel_size=kernel_size,strides=2, padding='same', kernel_initializer='glorot_normal')(x)\n",
        "x = BatchNormalization()(x)\n",
        "x = LeakyReLU(alpha=0.2)(x)\n",
        "x = Conv2D(filters=128, kernel_size=kernel_size,strides=2, padding='same', kernel_initializer='glorot_normal')(x)\n",
        "x = BatchNormalization()(x)\n",
        "x = LeakyReLU(alpha=0.2)(x)\n",
        "x = Flatten()(x)\n",
        "x = Dense(16)(x)\n",
        "out = Dense(2, name='out')(x)\n",
        "disc = Model(disc_inputs, out, name='discrim')\n",
        "disc.summary()"
      ],
      "execution_count": 52,
      "outputs": [
        {
          "output_type": "stream",
          "text": [
            "Model: \"discrim\"\n",
            "_________________________________________________________________\n",
            "Layer (type)                 Output Shape              Param #   \n",
            "=================================================================\n",
            "disc_input (InputLayer)      (None, 400, 400, 3)       0         \n",
            "_________________________________________________________________\n",
            "conv2d_21 (Conv2D)           (None, 400, 400, 3)       84        \n",
            "_________________________________________________________________\n",
            "batch_normalization_49 (Batc (None, 400, 400, 3)       12        \n",
            "_________________________________________________________________\n",
            "leaky_re_lu_48 (LeakyReLU)   (None, 400, 400, 3)       0         \n",
            "_________________________________________________________________\n",
            "conv2d_22 (Conv2D)           (None, 200, 200, 32)      896       \n",
            "_________________________________________________________________\n",
            "batch_normalization_50 (Batc (None, 200, 200, 32)      128       \n",
            "_________________________________________________________________\n",
            "leaky_re_lu_49 (LeakyReLU)   (None, 200, 200, 32)      0         \n",
            "_________________________________________________________________\n",
            "conv2d_23 (Conv2D)           (None, 100, 100, 64)      18496     \n",
            "_________________________________________________________________\n",
            "batch_normalization_51 (Batc (None, 100, 100, 64)      256       \n",
            "_________________________________________________________________\n",
            "leaky_re_lu_50 (LeakyReLU)   (None, 100, 100, 64)      0         \n",
            "_________________________________________________________________\n",
            "conv2d_24 (Conv2D)           (None, 50, 50, 128)       73856     \n",
            "_________________________________________________________________\n",
            "batch_normalization_52 (Batc (None, 50, 50, 128)       512       \n",
            "_________________________________________________________________\n",
            "leaky_re_lu_51 (LeakyReLU)   (None, 50, 50, 128)       0         \n",
            "_________________________________________________________________\n",
            "flatten_8 (Flatten)          (None, 320000)            0         \n",
            "_________________________________________________________________\n",
            "dense_13 (Dense)             (None, 16)                5120016   \n",
            "_________________________________________________________________\n",
            "out (Dense)                  (None, 2)                 34        \n",
            "=================================================================\n",
            "Total params: 5,214,290\n",
            "Trainable params: 5,213,836\n",
            "Non-trainable params: 454\n",
            "_________________________________________________________________\n"
          ],
          "name": "stdout"
        }
      ]
    },
    {
      "cell_type": "code",
      "metadata": {
        "id": "dgXOSxOHsel_",
        "colab_type": "code",
        "colab": {}
      },
      "source": [
        "class PlotLosses(keras.callbacks.Callback):\n",
        "    def on_train_begin(self, logs={}):\n",
        "        self.i = 0\n",
        "        self.x = []\n",
        "        self.losses = []\n",
        "        self.val_losses = []\n",
        "        self.fig = plt.figure()\n",
        "        self.logs = []\n",
        "    def on_epoch_end(self, epoch, logs={}):\n",
        "        \n",
        "        self.logs.append(logs)\n",
        "        self.x.append(self.i)\n",
        "        self.losses.append(logs.get('loss'))\n",
        "        self.val_losses.append(logs.get('val_loss'))\n",
        "        self.i += 1\n",
        "        \n",
        "        clear_output(wait=True)\n",
        "        plt.plot(self.x, self.losses, label=\"loss\")\n",
        "        plt.plot(self.x, self.val_losses, label=\"val_loss\")\n",
        "        plt.legend()\n",
        "        plt.show();\n",
        "        plt.savefig('SRCNN', dpi = None)\n",
        "        \n",
        "plot_losses = PlotLosses()"
      ],
      "execution_count": 0,
      "outputs": []
    },
    {
      "cell_type": "code",
      "metadata": {
        "id": "cXlnn4Iljzz6",
        "colab_type": "code",
        "outputId": "cfeb4607-3f60-4239-8197-19d0451f1aa8",
        "colab": {
          "base_uri": "https://localhost:8080/",
          "height": 924
        }
      },
      "source": [
        "from keras.optimizers import SGD,RMSprop,Adam\n",
        "sgd = SGD(lr=1e-2, clipnorm=1, clipvalue=0.5)\n",
        "\n",
        "\n",
        "disc.compile(loss='binary_crossentropy', optimizer=sgd,  metrics=['acc'])\n",
        "gen = Model(inputs, decoder(encoder(inputs)), name='Generator')\n",
        "z = Input(shape=((100,100,3,)))\n",
        "img = gen(z)\n",
        "disc.summary()\n",
        "disc.trainable = False\n",
        "valid = disc(img)\n",
        "gan = Model(z, valid, name='GAN')\n",
        "\n",
        "gan.compile(loss='binary_crossentropy',  optimizer=sgd,  metrics=['acc'])\n",
        "\n",
        "gan.summary()\n"
      ],
      "execution_count": 54,
      "outputs": [
        {
          "output_type": "stream",
          "text": [
            "Model: \"discrim\"\n",
            "_________________________________________________________________\n",
            "Layer (type)                 Output Shape              Param #   \n",
            "=================================================================\n",
            "disc_input (InputLayer)      (None, 400, 400, 3)       0         \n",
            "_________________________________________________________________\n",
            "conv2d_21 (Conv2D)           (None, 400, 400, 3)       84        \n",
            "_________________________________________________________________\n",
            "batch_normalization_49 (Batc (None, 400, 400, 3)       12        \n",
            "_________________________________________________________________\n",
            "leaky_re_lu_48 (LeakyReLU)   (None, 400, 400, 3)       0         \n",
            "_________________________________________________________________\n",
            "conv2d_22 (Conv2D)           (None, 200, 200, 32)      896       \n",
            "_________________________________________________________________\n",
            "batch_normalization_50 (Batc (None, 200, 200, 32)      128       \n",
            "_________________________________________________________________\n",
            "leaky_re_lu_49 (LeakyReLU)   (None, 200, 200, 32)      0         \n",
            "_________________________________________________________________\n",
            "conv2d_23 (Conv2D)           (None, 100, 100, 64)      18496     \n",
            "_________________________________________________________________\n",
            "batch_normalization_51 (Batc (None, 100, 100, 64)      256       \n",
            "_________________________________________________________________\n",
            "leaky_re_lu_50 (LeakyReLU)   (None, 100, 100, 64)      0         \n",
            "_________________________________________________________________\n",
            "conv2d_24 (Conv2D)           (None, 50, 50, 128)       73856     \n",
            "_________________________________________________________________\n",
            "batch_normalization_52 (Batc (None, 50, 50, 128)       512       \n",
            "_________________________________________________________________\n",
            "leaky_re_lu_51 (LeakyReLU)   (None, 50, 50, 128)       0         \n",
            "_________________________________________________________________\n",
            "flatten_8 (Flatten)          (None, 320000)            0         \n",
            "_________________________________________________________________\n",
            "dense_13 (Dense)             (None, 16)                5120016   \n",
            "_________________________________________________________________\n",
            "out (Dense)                  (None, 2)                 34        \n",
            "=================================================================\n",
            "Total params: 5,214,290\n",
            "Trainable params: 5,213,836\n",
            "Non-trainable params: 454\n",
            "_________________________________________________________________\n",
            "Model: \"GAN\"\n",
            "_________________________________________________________________\n",
            "Layer (type)                 Output Shape              Param #   \n",
            "=================================================================\n",
            "input_6 (InputLayer)         (None, 100, 100, 3)       0         \n",
            "_________________________________________________________________\n",
            "Generator (Model)            (None, 400, 400, 3)       5236591   \n",
            "_________________________________________________________________\n",
            "discrim (Model)              (None, 2)                 5214290   \n",
            "=================================================================\n",
            "Total params: 10,450,881\n",
            "Trainable params: 5,236,195\n",
            "Non-trainable params: 5,214,686\n",
            "_________________________________________________________________\n"
          ],
          "name": "stdout"
        }
      ]
    },
    {
      "cell_type": "code",
      "metadata": {
        "id": "Bb7GCC1CsgT1",
        "colab_type": "code",
        "outputId": "ab198397-2977-40e3-c10c-11de6b069dc8",
        "colab": {
          "base_uri": "https://localhost:8080/",
          "height": 341
        }
      },
      "source": [
        "gen.compile(loss='mean_squared_logarithmic_error', optimizer=sgd,  metrics=['acc'])\n",
        "gen.fit(x_train,target_data_train, validation_data=(x_test, target_data_test), callbacks=[plot_losses], verbose=0, epochs=1000, batch_size=1)"
      ],
      "execution_count": 55,
      "outputs": [
        {
          "output_type": "error",
          "ename": "ValueError",
          "evalue": "ignored",
          "traceback": [
            "\u001b[0;31m---------------------------------------------------------------------------\u001b[0m",
            "\u001b[0;31mValueError\u001b[0m                                Traceback (most recent call last)",
            "\u001b[0;32m<ipython-input-55-ba7d8389412b>\u001b[0m in \u001b[0;36m<module>\u001b[0;34m()\u001b[0m\n\u001b[1;32m      1\u001b[0m \u001b[0mgen\u001b[0m\u001b[0;34m.\u001b[0m\u001b[0mcompile\u001b[0m\u001b[0;34m(\u001b[0m\u001b[0mloss\u001b[0m\u001b[0;34m=\u001b[0m\u001b[0;34m'mean_squared_logarithmic_error'\u001b[0m\u001b[0;34m,\u001b[0m \u001b[0moptimizer\u001b[0m\u001b[0;34m=\u001b[0m\u001b[0msgd\u001b[0m\u001b[0;34m,\u001b[0m  \u001b[0mmetrics\u001b[0m\u001b[0;34m=\u001b[0m\u001b[0;34m[\u001b[0m\u001b[0;34m'acc'\u001b[0m\u001b[0;34m]\u001b[0m\u001b[0;34m)\u001b[0m\u001b[0;34m\u001b[0m\u001b[0;34m\u001b[0m\u001b[0m\n\u001b[0;32m----> 2\u001b[0;31m \u001b[0mgen\u001b[0m\u001b[0;34m.\u001b[0m\u001b[0mfit\u001b[0m\u001b[0;34m(\u001b[0m\u001b[0mx_train\u001b[0m\u001b[0;34m,\u001b[0m\u001b[0mtarget_data_train\u001b[0m\u001b[0;34m,\u001b[0m \u001b[0mvalidation_data\u001b[0m\u001b[0;34m=\u001b[0m\u001b[0;34m(\u001b[0m\u001b[0mx_test\u001b[0m\u001b[0;34m,\u001b[0m \u001b[0mtarget_data_test\u001b[0m\u001b[0;34m)\u001b[0m\u001b[0;34m,\u001b[0m \u001b[0mcallbacks\u001b[0m\u001b[0;34m=\u001b[0m\u001b[0;34m[\u001b[0m\u001b[0mplot_losses\u001b[0m\u001b[0;34m]\u001b[0m\u001b[0;34m,\u001b[0m \u001b[0mverbose\u001b[0m\u001b[0;34m=\u001b[0m\u001b[0;36m0\u001b[0m\u001b[0;34m,\u001b[0m \u001b[0mepochs\u001b[0m\u001b[0;34m=\u001b[0m\u001b[0;36m1000\u001b[0m\u001b[0;34m,\u001b[0m \u001b[0mbatch_size\u001b[0m\u001b[0;34m=\u001b[0m\u001b[0;36m1\u001b[0m\u001b[0;34m)\u001b[0m\u001b[0;34m\u001b[0m\u001b[0;34m\u001b[0m\u001b[0m\n\u001b[0m",
            "\u001b[0;32m/usr/local/lib/python3.6/dist-packages/keras/engine/training.py\u001b[0m in \u001b[0;36mfit\u001b[0;34m(self, x, y, batch_size, epochs, verbose, callbacks, validation_split, validation_data, shuffle, class_weight, sample_weight, initial_epoch, steps_per_epoch, validation_steps, validation_freq, max_queue_size, workers, use_multiprocessing, **kwargs)\u001b[0m\n\u001b[1;32m   1087\u001b[0m             \u001b[0msample_weight\u001b[0m\u001b[0;34m=\u001b[0m\u001b[0msample_weight\u001b[0m\u001b[0;34m,\u001b[0m\u001b[0;34m\u001b[0m\u001b[0;34m\u001b[0m\u001b[0m\n\u001b[1;32m   1088\u001b[0m             \u001b[0mclass_weight\u001b[0m\u001b[0;34m=\u001b[0m\u001b[0mclass_weight\u001b[0m\u001b[0;34m,\u001b[0m\u001b[0;34m\u001b[0m\u001b[0;34m\u001b[0m\u001b[0m\n\u001b[0;32m-> 1089\u001b[0;31m             batch_size=batch_size)\n\u001b[0m\u001b[1;32m   1090\u001b[0m \u001b[0;34m\u001b[0m\u001b[0m\n\u001b[1;32m   1091\u001b[0m         \u001b[0;31m# Prepare validation data.\u001b[0m\u001b[0;34m\u001b[0m\u001b[0;34m\u001b[0m\u001b[0;34m\u001b[0m\u001b[0m\n",
            "\u001b[0;32m/usr/local/lib/python3.6/dist-packages/keras/engine/training.py\u001b[0m in \u001b[0;36m_standardize_user_data\u001b[0;34m(self, x, y, sample_weight, class_weight, check_array_lengths, batch_size)\u001b[0m\n\u001b[1;32m    809\u001b[0m             \u001b[0;31m# Check that all arrays have the same length.\u001b[0m\u001b[0;34m\u001b[0m\u001b[0;34m\u001b[0m\u001b[0;34m\u001b[0m\u001b[0m\n\u001b[1;32m    810\u001b[0m             \u001b[0;32mif\u001b[0m \u001b[0mcheck_array_lengths\u001b[0m\u001b[0;34m:\u001b[0m\u001b[0;34m\u001b[0m\u001b[0;34m\u001b[0m\u001b[0m\n\u001b[0;32m--> 811\u001b[0;31m                 \u001b[0mcheck_array_length_consistency\u001b[0m\u001b[0;34m(\u001b[0m\u001b[0mx\u001b[0m\u001b[0;34m,\u001b[0m \u001b[0my\u001b[0m\u001b[0;34m,\u001b[0m \u001b[0msample_weights\u001b[0m\u001b[0;34m)\u001b[0m\u001b[0;34m\u001b[0m\u001b[0;34m\u001b[0m\u001b[0m\n\u001b[0m\u001b[1;32m    812\u001b[0m             \u001b[0;32mif\u001b[0m \u001b[0mself\u001b[0m\u001b[0;34m.\u001b[0m\u001b[0m_is_graph_network\u001b[0m\u001b[0;34m:\u001b[0m\u001b[0;34m\u001b[0m\u001b[0;34m\u001b[0m\u001b[0m\n\u001b[1;32m    813\u001b[0m                 \u001b[0;31m# Additional checks to avoid users mistakenly\u001b[0m\u001b[0;34m\u001b[0m\u001b[0;34m\u001b[0m\u001b[0;34m\u001b[0m\u001b[0m\n",
            "\u001b[0;32m/usr/local/lib/python3.6/dist-packages/keras/engine/training_utils.py\u001b[0m in \u001b[0;36mcheck_array_length_consistency\u001b[0;34m(inputs, targets, weights)\u001b[0m\n\u001b[1;32m    238\u001b[0m                          \u001b[0;34m'the same number of samples as target arrays. '\u001b[0m\u001b[0;34m\u001b[0m\u001b[0;34m\u001b[0m\u001b[0m\n\u001b[1;32m    239\u001b[0m                          \u001b[0;34m'Found '\u001b[0m \u001b[0;34m+\u001b[0m \u001b[0mstr\u001b[0m\u001b[0;34m(\u001b[0m\u001b[0mlist\u001b[0m\u001b[0;34m(\u001b[0m\u001b[0mset_x\u001b[0m\u001b[0;34m)\u001b[0m\u001b[0;34m[\u001b[0m\u001b[0;36m0\u001b[0m\u001b[0;34m]\u001b[0m\u001b[0;34m)\u001b[0m \u001b[0;34m+\u001b[0m \u001b[0;34m' input samples '\u001b[0m\u001b[0;34m\u001b[0m\u001b[0;34m\u001b[0m\u001b[0m\n\u001b[0;32m--> 240\u001b[0;31m                          'and ' + str(list(set_y)[0]) + ' target samples.')\n\u001b[0m\u001b[1;32m    241\u001b[0m     \u001b[0;32mif\u001b[0m \u001b[0mlen\u001b[0m\u001b[0;34m(\u001b[0m\u001b[0mset_w\u001b[0m\u001b[0;34m)\u001b[0m \u001b[0;34m>\u001b[0m \u001b[0;36m1\u001b[0m\u001b[0;34m:\u001b[0m\u001b[0;34m\u001b[0m\u001b[0;34m\u001b[0m\u001b[0m\n\u001b[1;32m    242\u001b[0m         raise ValueError('All sample_weight arrays should have '\n",
            "\u001b[0;31mValueError\u001b[0m: Input arrays should have the same number of samples as target arrays. Found 41 input samples and 43 target samples."
          ]
        }
      ]
    },
    {
      "cell_type": "code",
      "metadata": {
        "id": "cjU0yO5yj29_",
        "colab_type": "code",
        "outputId": "5cea6591-f775-4c2d-fe3c-c3fb7aea8b4f",
        "colab": {
          "base_uri": "https://localhost:8080/",
          "height": 751
        }
      },
      "source": [
        "train = []\n",
        "epoch=10\n",
        "num_sample=100\n",
        "num_classes = 2\n",
        "\n",
        "for epoch in range (epoch):\n",
        "  #gen.fit(x_train,target_data_train, validation_data=(x_test, target_data_test), callbacks=[plot_losses], verbose=0, epochs=100, batch_size=1)\n",
        "  real_labels = np.ones((100,2))\n",
        "  fake_labels = np.zeros((100,2))\n",
        "    #----------------\n",
        "    #Train on just the discrim\n",
        "    #----------------\n",
        "    #train on real\n",
        "  print(\"Train on real\")\n",
        "  d_loss_real = disc.train_on_batch(target_data_train,real_labels)\n",
        "    #train on fake\n",
        "  fake = gen.predict(x_train)\n",
        "  d_loss_fake = disc.train_on_batch(fake, fake_labels)\n",
        "    #average of the loss\n",
        "  print(\"Train on fake\")\n",
        "  d_loss = 0.5 *np.add(d_loss_real, d_loss_fake)\n",
        "    #----------------\n",
        "    #Train on entire model\n",
        "    #----------------\n",
        "  print('GAN TRAIN')\n",
        "  g_loss = gan.train_on_batch(x_train, fake_labels) \n",
        "  print (\"%d [D loss: %f, acc.: %.2f%%] [G loss: %f]\" % (epoch, d_loss[0], 100*d_loss[1], g_loss[0]))\n",
        "    # If at save interval => save generated image samples\n"
      ],
      "execution_count": 0,
      "outputs": [
        {
          "output_type": "stream",
          "text": [
            "Train on real\n"
          ],
          "name": "stdout"
        },
        {
          "output_type": "stream",
          "text": [
            "/usr/local/lib/python3.6/dist-packages/keras/engine/training.py:490: UserWarning: Discrepancy between trainable weights and collected trainable weights, did you set `model.trainable` without calling `model.compile` after ?\n",
            "  'Discrepancy between trainable weights and collected trainable'\n"
          ],
          "name": "stderr"
        },
        {
          "output_type": "stream",
          "text": [
            "Train on fake\n",
            "GAN TRAIN\n",
            "0 [D loss: 4.822851, acc.: 9.00%] [G loss: 0.000000]\n",
            "Train on real\n",
            "Train on fake\n",
            "GAN TRAIN\n",
            "1 [D loss: 2.908815, acc.: 9.25%] [G loss: 0.000000]\n",
            "Train on real\n",
            "Train on fake\n",
            "GAN TRAIN\n",
            "2 [D loss: 1.593310, acc.: 6.50%] [G loss: 0.000000]\n",
            "Train on real\n",
            "Train on fake\n",
            "GAN TRAIN\n",
            "3 [D loss: 1.311482, acc.: 7.25%] [G loss: 0.000000]\n",
            "Train on real\n",
            "Train on fake\n",
            "GAN TRAIN\n",
            "4 [D loss: 0.974193, acc.: 11.50%] [G loss: 0.000000]\n",
            "Train on real\n",
            "Train on fake\n",
            "GAN TRAIN\n",
            "5 [D loss: 0.862461, acc.: 8.75%] [G loss: 0.000000]\n",
            "Train on real\n",
            "Train on fake\n",
            "GAN TRAIN\n",
            "6 [D loss: 0.405261, acc.: 5.50%] [G loss: 0.000000]\n",
            "Train on real\n",
            "Train on fake\n",
            "GAN TRAIN\n",
            "7 [D loss: 1.082039, acc.: 21.00%] [G loss: 0.000000]\n",
            "Train on real\n",
            "Train on fake\n",
            "GAN TRAIN\n",
            "8 [D loss: 0.756293, acc.: 10.00%] [G loss: 0.000000]\n",
            "Train on real\n",
            "Train on fake\n",
            "GAN TRAIN\n",
            "9 [D loss: 0.453898, acc.: 4.75%] [G loss: 0.000000]\n"
          ],
          "name": "stdout"
        }
      ]
    },
    {
      "cell_type": "code",
      "metadata": {
        "id": "5n9eBIYXQJCY",
        "colab_type": "code",
        "outputId": "8bf607c6-fed1-4d72-84cf-bdb500a5ca5f",
        "colab": {
          "base_uri": "https://localhost:8080/",
          "height": 1159
        }
      },
      "source": [
        "sgd = SGD(lr=100, clipnorm=1, clipvalue=0.5)\n",
        "gen.compile(loss='mean_squared_logarithmic_error', optimizer=sgd,  metrics=['acc'])\n",
        "gen.fit(x_train,target_data_train, validation_data=(x_test, target_data_test), callbacks=[plot_losses], verbose=0, epochs=100, batch_size=1)"
      ],
      "execution_count": 0,
      "outputs": [
        {
          "output_type": "display_data",
          "data": {
            "image/png": "[encoded data removed]",
            "text/plain": [
              "<Figure size 576x396 with 1 Axes>"
            ]
          },
          "metadata": {
            "tags": []
          }
        },
        {
          "output_type": "error",
          "ename": "KeyboardInterrupt",
          "evalue": "ignored",
          "traceback": [
            "\u001b[0;31m---------------------------------------------------------------------------\u001b[0m",
            "\u001b[0;31mKeyboardInterrupt\u001b[0m                         Traceback (most recent call last)",
            "\u001b[0;32m<ipython-input-38-f0db428bf094>\u001b[0m in \u001b[0;36m<module>\u001b[0;34m()\u001b[0m\n\u001b[1;32m      1\u001b[0m \u001b[0msgd\u001b[0m \u001b[0;34m=\u001b[0m \u001b[0mSGD\u001b[0m\u001b[0;34m(\u001b[0m\u001b[0mlr\u001b[0m\u001b[0;34m=\u001b[0m\u001b[0;36m100\u001b[0m\u001b[0;34m,\u001b[0m \u001b[0mclipnorm\u001b[0m\u001b[0;34m=\u001b[0m\u001b[0;36m1\u001b[0m\u001b[0;34m,\u001b[0m \u001b[0mclipvalue\u001b[0m\u001b[0;34m=\u001b[0m\u001b[0;36m0.5\u001b[0m\u001b[0;34m)\u001b[0m\u001b[0;34m\u001b[0m\u001b[0;34m\u001b[0m\u001b[0m\n\u001b[1;32m      2\u001b[0m \u001b[0mgen\u001b[0m\u001b[0;34m.\u001b[0m\u001b[0mcompile\u001b[0m\u001b[0;34m(\u001b[0m\u001b[0mloss\u001b[0m\u001b[0;34m=\u001b[0m\u001b[0;34m'mean_squared_logarithmic_error'\u001b[0m\u001b[0;34m,\u001b[0m \u001b[0moptimizer\u001b[0m\u001b[0;34m=\u001b[0m\u001b[0msgd\u001b[0m\u001b[0;34m,\u001b[0m  \u001b[0mmetrics\u001b[0m\u001b[0;34m=\u001b[0m\u001b[0;34m[\u001b[0m\u001b[0;34m'acc'\u001b[0m\u001b[0;34m]\u001b[0m\u001b[0;34m)\u001b[0m\u001b[0;34m\u001b[0m\u001b[0;34m\u001b[0m\u001b[0m\n\u001b[0;32m----> 3\u001b[0;31m \u001b[0mgen\u001b[0m\u001b[0;34m.\u001b[0m\u001b[0mfit\u001b[0m\u001b[0;34m(\u001b[0m\u001b[0mx_train\u001b[0m\u001b[0;34m,\u001b[0m\u001b[0mtarget_data_train\u001b[0m\u001b[0;34m,\u001b[0m \u001b[0mvalidation_data\u001b[0m\u001b[0;34m=\u001b[0m\u001b[0;34m(\u001b[0m\u001b[0mx_test\u001b[0m\u001b[0;34m,\u001b[0m \u001b[0mtarget_data_test\u001b[0m\u001b[0;34m)\u001b[0m\u001b[0;34m,\u001b[0m \u001b[0mcallbacks\u001b[0m\u001b[0;34m=\u001b[0m\u001b[0;34m[\u001b[0m\u001b[0mplot_losses\u001b[0m\u001b[0;34m]\u001b[0m\u001b[0;34m,\u001b[0m \u001b[0mverbose\u001b[0m\u001b[0;34m=\u001b[0m\u001b[0;36m0\u001b[0m\u001b[0;34m,\u001b[0m \u001b[0mepochs\u001b[0m\u001b[0;34m=\u001b[0m\u001b[0;36m100\u001b[0m\u001b[0;34m,\u001b[0m \u001b[0mbatch_size\u001b[0m\u001b[0;34m=\u001b[0m\u001b[0;36m1\u001b[0m\u001b[0;34m)\u001b[0m\u001b[0;34m\u001b[0m\u001b[0;34m\u001b[0m\u001b[0m\n\u001b[0m",
            "\u001b[0;32m/usr/local/lib/python3.6/dist-packages/keras/engine/training.py\u001b[0m in \u001b[0;36mfit\u001b[0;34m(self, x, y, batch_size, epochs, verbose, callbacks, validation_split, validation_data, shuffle, class_weight, sample_weight, initial_epoch, steps_per_epoch, validation_steps, **kwargs)\u001b[0m\n\u001b[1;32m   1037\u001b[0m                                         \u001b[0minitial_epoch\u001b[0m\u001b[0;34m=\u001b[0m\u001b[0minitial_epoch\u001b[0m\u001b[0;34m,\u001b[0m\u001b[0;34m\u001b[0m\u001b[0;34m\u001b[0m\u001b[0m\n\u001b[1;32m   1038\u001b[0m                                         \u001b[0msteps_per_epoch\u001b[0m\u001b[0;34m=\u001b[0m\u001b[0msteps_per_epoch\u001b[0m\u001b[0;34m,\u001b[0m\u001b[0;34m\u001b[0m\u001b[0;34m\u001b[0m\u001b[0m\n\u001b[0;32m-> 1039\u001b[0;31m                                         validation_steps=validation_steps)\n\u001b[0m\u001b[1;32m   1040\u001b[0m \u001b[0;34m\u001b[0m\u001b[0m\n\u001b[1;32m   1041\u001b[0m     def evaluate(self, x=None, y=None,\n",
            "\u001b[0;32m/usr/local/lib/python3.6/dist-packages/keras/engine/training_arrays.py\u001b[0m in \u001b[0;36mfit_loop\u001b[0;34m(model, f, ins, out_labels, batch_size, epochs, verbose, callbacks, val_f, val_ins, shuffle, callback_metrics, initial_epoch, steps_per_epoch, validation_steps)\u001b[0m\n\u001b[1;32m    197\u001b[0m                     \u001b[0mins_batch\u001b[0m\u001b[0;34m[\u001b[0m\u001b[0mi\u001b[0m\u001b[0;34m]\u001b[0m \u001b[0;34m=\u001b[0m \u001b[0mins_batch\u001b[0m\u001b[0;34m[\u001b[0m\u001b[0mi\u001b[0m\u001b[0;34m]\u001b[0m\u001b[0;34m.\u001b[0m\u001b[0mtoarray\u001b[0m\u001b[0;34m(\u001b[0m\u001b[0;34m)\u001b[0m\u001b[0;34m\u001b[0m\u001b[0;34m\u001b[0m\u001b[0m\n\u001b[1;32m    198\u001b[0m \u001b[0;34m\u001b[0m\u001b[0m\n\u001b[0;32m--> 199\u001b[0;31m                 \u001b[0mouts\u001b[0m \u001b[0;34m=\u001b[0m \u001b[0mf\u001b[0m\u001b[0;34m(\u001b[0m\u001b[0mins_batch\u001b[0m\u001b[0;34m)\u001b[0m\u001b[0;34m\u001b[0m\u001b[0;34m\u001b[0m\u001b[0m\n\u001b[0m\u001b[1;32m    200\u001b[0m                 \u001b[0mouts\u001b[0m \u001b[0;34m=\u001b[0m \u001b[0mto_list\u001b[0m\u001b[0;34m(\u001b[0m\u001b[0mouts\u001b[0m\u001b[0;34m)\u001b[0m\u001b[0;34m\u001b[0m\u001b[0;34m\u001b[0m\u001b[0m\n\u001b[1;32m    201\u001b[0m                 \u001b[0;32mfor\u001b[0m \u001b[0ml\u001b[0m\u001b[0;34m,\u001b[0m \u001b[0mo\u001b[0m \u001b[0;32min\u001b[0m \u001b[0mzip\u001b[0m\u001b[0;34m(\u001b[0m\u001b[0mout_labels\u001b[0m\u001b[0;34m,\u001b[0m \u001b[0mouts\u001b[0m\u001b[0;34m)\u001b[0m\u001b[0;34m:\u001b[0m\u001b[0;34m\u001b[0m\u001b[0;34m\u001b[0m\u001b[0m\n",
            "\u001b[0;32m/usr/local/lib/python3.6/dist-packages/keras/backend/tensorflow_backend.py\u001b[0m in \u001b[0;36m__call__\u001b[0;34m(self, inputs)\u001b[0m\n\u001b[1;32m   2713\u001b[0m                 \u001b[0;32mreturn\u001b[0m \u001b[0mself\u001b[0m\u001b[0;34m.\u001b[0m\u001b[0m_legacy_call\u001b[0m\u001b[0;34m(\u001b[0m\u001b[0minputs\u001b[0m\u001b[0;34m)\u001b[0m\u001b[0;34m\u001b[0m\u001b[0;34m\u001b[0m\u001b[0m\n\u001b[1;32m   2714\u001b[0m \u001b[0;34m\u001b[0m\u001b[0m\n\u001b[0;32m-> 2715\u001b[0;31m             \u001b[0;32mreturn\u001b[0m \u001b[0mself\u001b[0m\u001b[0;34m.\u001b[0m\u001b[0m_call\u001b[0m\u001b[0;34m(\u001b[0m\u001b[0minputs\u001b[0m\u001b[0;34m)\u001b[0m\u001b[0;34m\u001b[0m\u001b[0;34m\u001b[0m\u001b[0m\n\u001b[0m\u001b[1;32m   2716\u001b[0m         \u001b[0;32melse\u001b[0m\u001b[0;34m:\u001b[0m\u001b[0;34m\u001b[0m\u001b[0;34m\u001b[0m\u001b[0m\n\u001b[1;32m   2717\u001b[0m             \u001b[0;32mif\u001b[0m \u001b[0mpy_any\u001b[0m\u001b[0;34m(\u001b[0m\u001b[0mis_tensor\u001b[0m\u001b[0;34m(\u001b[0m\u001b[0mx\u001b[0m\u001b[0;34m)\u001b[0m \u001b[0;32mfor\u001b[0m \u001b[0mx\u001b[0m \u001b[0;32min\u001b[0m \u001b[0minputs\u001b[0m\u001b[0;34m)\u001b[0m\u001b[0;34m:\u001b[0m\u001b[0;34m\u001b[0m\u001b[0;34m\u001b[0m\u001b[0m\n",
            "\u001b[0;32m/usr/local/lib/python3.6/dist-packages/keras/backend/tensorflow_backend.py\u001b[0m in \u001b[0;36m_call\u001b[0;34m(self, inputs)\u001b[0m\n\u001b[1;32m   2673\u001b[0m             \u001b[0mfetched\u001b[0m \u001b[0;34m=\u001b[0m \u001b[0mself\u001b[0m\u001b[0;34m.\u001b[0m\u001b[0m_callable_fn\u001b[0m\u001b[0;34m(\u001b[0m\u001b[0;34m*\u001b[0m\u001b[0marray_vals\u001b[0m\u001b[0;34m,\u001b[0m \u001b[0mrun_metadata\u001b[0m\u001b[0;34m=\u001b[0m\u001b[0mself\u001b[0m\u001b[0;34m.\u001b[0m\u001b[0mrun_metadata\u001b[0m\u001b[0;34m)\u001b[0m\u001b[0;34m\u001b[0m\u001b[0;34m\u001b[0m\u001b[0m\n\u001b[1;32m   2674\u001b[0m         \u001b[0;32melse\u001b[0m\u001b[0;34m:\u001b[0m\u001b[0;34m\u001b[0m\u001b[0;34m\u001b[0m\u001b[0m\n\u001b[0;32m-> 2675\u001b[0;31m             \u001b[0mfetched\u001b[0m \u001b[0;34m=\u001b[0m \u001b[0mself\u001b[0m\u001b[0;34m.\u001b[0m\u001b[0m_callable_fn\u001b[0m\u001b[0;34m(\u001b[0m\u001b[0;34m*\u001b[0m\u001b[0marray_vals\u001b[0m\u001b[0;34m)\u001b[0m\u001b[0;34m\u001b[0m\u001b[0;34m\u001b[0m\u001b[0m\n\u001b[0m\u001b[1;32m   2676\u001b[0m         \u001b[0;32mreturn\u001b[0m \u001b[0mfetched\u001b[0m\u001b[0;34m[\u001b[0m\u001b[0;34m:\u001b[0m\u001b[0mlen\u001b[0m\u001b[0;34m(\u001b[0m\u001b[0mself\u001b[0m\u001b[0;34m.\u001b[0m\u001b[0moutputs\u001b[0m\u001b[0;34m)\u001b[0m\u001b[0;34m]\u001b[0m\u001b[0;34m\u001b[0m\u001b[0;34m\u001b[0m\u001b[0m\n\u001b[1;32m   2677\u001b[0m \u001b[0;34m\u001b[0m\u001b[0m\n",
            "\u001b[0;32m/usr/local/lib/python3.6/dist-packages/tensorflow/python/client/session.py\u001b[0m in \u001b[0;36m__call__\u001b[0;34m(self, *args, **kwargs)\u001b[0m\n\u001b[1;32m   1437\u001b[0m           ret = tf_session.TF_SessionRunCallable(\n\u001b[1;32m   1438\u001b[0m               \u001b[0mself\u001b[0m\u001b[0;34m.\u001b[0m\u001b[0m_session\u001b[0m\u001b[0;34m.\u001b[0m\u001b[0m_session\u001b[0m\u001b[0;34m,\u001b[0m \u001b[0mself\u001b[0m\u001b[0;34m.\u001b[0m\u001b[0m_handle\u001b[0m\u001b[0;34m,\u001b[0m \u001b[0margs\u001b[0m\u001b[0;34m,\u001b[0m \u001b[0mstatus\u001b[0m\u001b[0;34m,\u001b[0m\u001b[0;34m\u001b[0m\u001b[0;34m\u001b[0m\u001b[0m\n\u001b[0;32m-> 1439\u001b[0;31m               run_metadata_ptr)\n\u001b[0m\u001b[1;32m   1440\u001b[0m         \u001b[0;32mif\u001b[0m \u001b[0mrun_metadata\u001b[0m\u001b[0;34m:\u001b[0m\u001b[0;34m\u001b[0m\u001b[0;34m\u001b[0m\u001b[0m\n\u001b[1;32m   1441\u001b[0m           \u001b[0mproto_data\u001b[0m \u001b[0;34m=\u001b[0m \u001b[0mtf_session\u001b[0m\u001b[0;34m.\u001b[0m\u001b[0mTF_GetBuffer\u001b[0m\u001b[0;34m(\u001b[0m\u001b[0mrun_metadata_ptr\u001b[0m\u001b[0;34m)\u001b[0m\u001b[0;34m\u001b[0m\u001b[0;34m\u001b[0m\u001b[0m\n",
            "\u001b[0;31mKeyboardInterrupt\u001b[0m: "
          ]
        },
        {
          "output_type": "display_data",
          "data": {
            "text/plain": [
              "<Figure size 576x396 with 0 Axes>"
            ]
          },
          "metadata": {
            "tags": []
          }
        }
      ]
    },
    {
      "cell_type": "code",
      "metadata": {
        "id": "WaWpjPCSkhj0",
        "colab_type": "code",
        "colab": {}
      },
      "source": [
        "fname = 'SRGAN.h5'\n",
        "gen.save(fname,overwrite=True)\n",
        "from keras.models import load_model"
      ],
      "execution_count": 0,
      "outputs": []
    },
    {
      "cell_type": "code",
      "metadata": {
        "id": "unAGYw76S2be",
        "colab_type": "code",
        "colab": {}
      },
      "source": [
        "fname = 'SRGAN.h5'\n",
        "gen=load_model(fname)"
      ],
      "execution_count": 0,
      "outputs": []
    },
    {
      "cell_type": "code",
      "metadata": {
        "id": "hlxJ3RQ0vx39",
        "colab_type": "code",
        "outputId": "fd8ce034-6675-4cbd-8eda-e681c344b64b",
        "colab": {
          "base_uri": "https://localhost:8080/",
          "height": 34
        }
      },
      "source": [
        "model_json = gen.to_json()\n",
        "with open(\"gen.json\", \"w\") as json_file:\n",
        "    json_file.write(model_json)\n",
        "# serialize weights to HDF5\n",
        "gen.save_weights(\"gen.h5\")\n",
        "print(\"Saved model to disk\")"
      ],
      "execution_count": 0,
      "outputs": [
        {
          "output_type": "stream",
          "text": [
            "Saved model to disk\n"
          ],
          "name": "stdout"
        }
      ]
    },
    {
      "cell_type": "code",
      "metadata": {
        "id": "FLNfoau4klc8",
        "colab_type": "code",
        "outputId": "b48174c0-04ec-4200-86b5-a34b0f10f0f9",
        "colab": {
          "base_uri": "https://localhost:8080/",
          "height": 700
        }
      },
      "source": [
        "x_decoded = gen.predict(x_train)\n",
        "from PIL import Image\n",
        "print(x_decoded.shape)\n",
        "test = x_decoded[99, : , :, :]\n",
        "test =(test*255).astype(np.uint8)\n",
        "plt.imshow(test,  interpolation='none', cmap='gray')\n",
        "plt.show()\n",
        "Image.fromarray(test).save('decode2.png')\n",
        "test1 = x_train[99, :, :, :]\n",
        "test1 =(test1*255).astype(np.uint8)\n",
        "plt.imshow(test1,  interpolation='none', cmap='gray')\n",
        "plt.show()\n",
        "Image.fromarray(test1).save('encode2.png')"
      ],
      "execution_count": 0,
      "outputs": [
        {
          "output_type": "stream",
          "text": [
            "(100, 400, 400, 3)\n"
          ],
          "name": "stdout"
        },
        {
          "output_type": "display_data",
          "data": {
            "image/png": "[encoded data removed]",
            "text/plain": [
              "<Figure size 576x396 with 1 Axes>"
            ]
          },
          "metadata": {
            "tags": []
          }
        },
        {
          "output_type": "display_data",
          "data": {
            "image/png": "[encoded data removed]",
            "text/plain": [
              "<Figure size 576x396 with 1 Axes>"
            ]
          },
          "metadata": {
            "tags": []
          }
        }
      ]
    }
  ]
}
