{
  "nbformat": 4,
  "nbformat_minor": 0,
  "metadata": {
    "colab": {
      "name": "Medical_GAN_Percept_5-shot.ipynb",
      "provenance": [],
      "collapsed_sections": [],
      "include_colab_link": true
    },
    "kernelspec": {
      "name": "python3",
      "display_name": "Python 3"
    },
    "accelerator": "GPU"
  },
  "cells": [
    {
      "cell_type": "markdown",
      "metadata": {
        "id": "view-in-github",
        "colab_type": "text"
      },
      "source": [
        "<a href=\"https://colab.research.google.com/github/seyonechithrananda/ScaleRez/blob/master/Medical_GAN_Percept_5_shot.ipynb\" target=\"_parent\"><img src=\"https://colab.research.google.com/assets/colab-badge.svg\" alt=\"Open In Colab\"/></a>"
      ]
    },
    {
      "cell_type": "code",
      "metadata": {
        "id": "C7ai63PAdye4",
        "colab_type": "code",
        "colab": {}
      },
      "source": [
        "from __future__ import absolute_import\n",
        "from __future__ import division\n",
        "from __future__ import print_function\n",
        "import keras\n",
        "from keras.layers.advanced_activations import LeakyReLU\n",
        "from keras.layers import Activation, Dense, Input, Dropout\n",
        "from keras.layers import Conv2D, Flatten\n",
        "from keras.layers import Reshape, Conv2DTranspose\n",
        "from keras.models import Model\n",
        "from keras import backend as K\n",
        "from keras.datasets import mnist\n",
        "import numpy as np\n",
        "import matplotlib.pyplot as plt\n",
        "from PIL import Image\n",
        "import os, cv2\n",
        "import tensorflow as tf\n",
        "from keras import losses\n",
        "from keras.optimizers import SGD,RMSprop,adam\n",
        "from keras.layers import Reshape, Conv2DTranspose, BatchNormalization, ZeroPadding2D\n",
        "from keras.models import load_model\n",
        "from IPython.display import clear_output\n",
        "from sklearn.utils import shuffle\n",
        "from keras.utils import np_utils\n",
        "from keras.models import Sequential"
      ],
      "execution_count": 0,
      "outputs": []
    },
    {
      "cell_type": "code",
      "metadata": {
        "id": "Hmh9juK7iOge",
        "colab_type": "code",
        "outputId": "70d67045-3997-45f8-af28-c06daa512de3",
        "colab": {
          "base_uri": "https://localhost:8080/",
          "height": 121
        }
      },
      "source": [
        "from google.colab import drive\n",
        "drive.mount('/content/drive')"
      ],
      "execution_count": 1,
      "outputs": [
        {
          "output_type": "stream",
          "text": [
            "Go to this URL in a browser: https://accounts.google.com/o/oauth2/auth?client_id=947318989803-6bn6qk8qdgf4n4g3pfee6491hc0brc4i.apps.googleusercontent.com&redirect_uri=urn%3aietf%3awg%3aoauth%3a2.0%3aoob&response_type=code&scope=email%20https%3a%2f%2fwww.googleapis.com%2fauth%2fdocs.test%20https%3a%2f%2fwww.googleapis.com%2fauth%2fdrive%20https%3a%2f%2fwww.googleapis.com%2fauth%2fdrive.photos.readonly%20https%3a%2f%2fwww.googleapis.com%2fauth%2fpeopleapi.readonly\n",
            "\n",
            "Enter your authorization code:\n",
            "··········\n",
            "Mounted at /content/drive\n"
          ],
          "name": "stdout"
        }
      ]
    },
    {
      "cell_type": "code",
      "metadata": {
        "id": "KCoTgauOh6Dj",
        "colab_type": "code",
        "outputId": "dd8e0eac-e88d-4d20-9d6a-af6aa553bbb1",
        "colab": {
          "base_uri": "https://localhost:8080/",
          "height": 34
        }
      },
      "source": [
        "from zipfile import ZipFile\n",
        "file_name = \"/content/drive/My Drive/Deeplearning/Meta.zip\"\n",
        "\n",
        "with ZipFile(file_name, 'r') as zip:\n",
        "  zip.extractall()\n",
        "  print('Done')"
      ],
      "execution_count": 0,
      "outputs": [
        {
          "output_type": "stream",
          "text": [
            "Done\n"
          ],
          "name": "stdout"
        }
      ]
    },
    {
      "cell_type": "code",
      "metadata": {
        "id": "qCTf_Cp0eDwe",
        "colab_type": "code",
        "outputId": "12a1b65b-791e-4aef-cdd4-cae5a4ba8285",
        "colab": {
          "base_uri": "https://localhost:8080/",
          "height": 235
        }
      },
      "source": [
        "PATH = os.getcwd()\n",
        "# Define data path\n",
        "data_path = \"/content/drive/My Drive/medical_5_img\"\n",
        "data_dir_list = os.listdir(data_path)\n",
        "\n",
        "img_rows=50\n",
        "img_cols=50\n",
        "num_channel=3\n",
        "\n",
        "img_data_list=[]\n",
        "img_target_list=[]\n",
        "count=0\n",
        "print(\"Working....\")\n",
        "for img in data_dir_list:\n",
        "    path =  os.path.join(data_path, img)\n",
        "    input_img = cv2.imread(path)\n",
        "    input_img=cv2.resize(input_img,(100,100))\n",
        "    img_data_list.append(input_img)\n",
        "    count+=1\n",
        "    if(count%1000==0):\n",
        "        print(count)\n",
        "    if(count == 12):\n",
        "        imgplt=plt.imshow(input_img)\n",
        "        plt.show()\n",
        "print(\"Done loading Training\")\n",
        "img_data = np.array(img_data_list)\n",
        "img_data = img_data.astype('float32')\n",
        "img_data /= 255\n",
        "print(\"Done Transforming\")\n",
        "print (img_data.shape[0])\n",
        "print (img_data[0].shape)\n",
        "print(\"Completed!\")\n",
        "x_train = img_data[0:100,:,:,:]\n",
        "x_test = img_data[101:104,:,:,:]\n",
        "count=0\n",
        "print (x_test.shape)\n",
        "print(x_train.shape)\n",
        "count=0\n",
        "\n",
        "for img in data_dir_list:\n",
        "    path =  os.path.join(data_path, img)\n",
        "    input_img = cv2.imread(path)\n",
        "    target_img=cv2.resize(input_img,(400,400))\n",
        "    img_target_list.append(target_img)\n",
        "    count+=1\n",
        "    if(count%1000==0):\n",
        "        print(count)\n",
        "    if(count == 12):\n",
        "        imgplt=plt.imshow(target_img)\n",
        "        plt.show()\n",
        "print(\"Done loading target\")\n",
        "target_data = np.array(img_target_list)\n",
        "target_data = target_data.astype('float32')\n",
        "target_data /= 255\n",
        "print(\"Done Transforming\")\n",
        "print (target_data.shape[0])\n",
        "print (target_data[0].shape)\n",
        "print(\"Completed!\")\n",
        "target_data_train = target_data[0:100,:,:,:]\n",
        "target_data_test = target_data[101:104,:,:,:]"
      ],
      "execution_count": 5,
      "outputs": [
        {
          "output_type": "stream",
          "text": [
            "Working....\n",
            "Done loading Training\n",
            "Done Transforming\n",
            "5\n",
            "(100, 100, 3)\n",
            "Completed!\n",
            "(0, 100, 100, 3)\n",
            "(5, 100, 100, 3)\n",
            "Done loading target\n",
            "Done Transforming\n",
            "5\n",
            "(400, 400, 3)\n",
            "Completed!\n"
          ],
          "name": "stdout"
        }
      ]
    },
    {
      "cell_type": "code",
      "metadata": {
        "id": "12Ks-GVNjl5W",
        "colab_type": "code",
        "colab": {}
      },
      "source": [
        "# Network parameters\n",
        "input_shape = (100, 100, 3)\n",
        "batch_size = 1\n",
        "kernel_size = 3\n",
        "latent_dim = 8\n",
        "# Encoder/Decoder number of CNN layers and filters per layer\n",
        "layer_filters = [16, 32]"
      ],
      "execution_count": 0,
      "outputs": []
    },
    {
      "cell_type": "code",
      "metadata": {
        "id": "-AkmKL9Xjque",
        "colab_type": "code",
        "outputId": "95e4314d-a534-4897-f672-792363a32225",
        "colab": {
          "base_uri": "https://localhost:8080/",
          "height": 454
        }
      },
      "source": [
        "inputs = Input(shape=input_shape, name='encoder_input')\n",
        "x = inputs\n",
        "for filters in layer_filters:\n",
        "    x = Conv2D(filters=filters,\n",
        "               kernel_size=kernel_size,\n",
        "               strides=2,\n",
        "               padding='same', kernel_initializer='glorot_normal')(x)\n",
        "    x = BatchNormalization()(x)\n",
        "    x = LeakyReLU(alpha=0.2)(x)\n",
        "shape = K.int_shape(x)\n",
        "x = Flatten()(x)\n",
        "latent = Dense(latent_dim, name='latent_vector')(x)\n",
        "encoder = Model(inputs, latent, name='encoder')\n",
        "encoder.summary()"
      ],
      "execution_count": 11,
      "outputs": [
        {
          "output_type": "stream",
          "text": [
            "Model: \"encoder\"\n",
            "_________________________________________________________________\n",
            "Layer (type)                 Output Shape              Param #   \n",
            "=================================================================\n",
            "encoder_input (InputLayer)   (None, 100, 100, 3)       0         \n",
            "_________________________________________________________________\n",
            "conv2d_3 (Conv2D)            (None, 50, 50, 16)        448       \n",
            "_________________________________________________________________\n",
            "batch_normalization_13 (Batc (None, 50, 50, 16)        64        \n",
            "_________________________________________________________________\n",
            "leaky_re_lu_11 (LeakyReLU)   (None, 50, 50, 16)        0         \n",
            "_________________________________________________________________\n",
            "conv2d_4 (Conv2D)            (None, 25, 25, 32)        4640      \n",
            "_________________________________________________________________\n",
            "batch_normalization_14 (Batc (None, 25, 25, 32)        128       \n",
            "_________________________________________________________________\n",
            "leaky_re_lu_12 (LeakyReLU)   (None, 25, 25, 32)        0         \n",
            "_________________________________________________________________\n",
            "flatten_2 (Flatten)          (None, 20000)             0         \n",
            "_________________________________________________________________\n",
            "latent_vector (Dense)        (None, 8)                 160008    \n",
            "=================================================================\n",
            "Total params: 165,288\n",
            "Trainable params: 165,192\n",
            "Non-trainable params: 96\n",
            "_________________________________________________________________\n"
          ],
          "name": "stdout"
        }
      ]
    },
    {
      "cell_type": "code",
      "metadata": {
        "id": "46aNLdhljsuH",
        "colab_type": "code",
        "outputId": "f0627af9-8fa0-4b89-a475-c6d06b51f66f",
        "colab": {
          "base_uri": "https://localhost:8080/",
          "height": 756
        }
      },
      "source": [
        "latent_inputs = Input(shape=(latent_dim,), name='decoder_input')\n",
        "x = Dense(shape[1] * shape[2] * shape[3])(latent_inputs)\n",
        "x = Reshape((shape[1], shape[2], shape[3]))(x)\n",
        "for filters in layer_filters[::-1]:\n",
        "    x = Conv2DTranspose(filters=filters,kernel_size=kernel_size, strides=2, padding='same' ,kernel_initializer='glorot_normal')(x)\n",
        "    x = BatchNormalization()(x)\n",
        "    x = LeakyReLU(alpha=0.2)(x)\n",
        "x = Conv2DTranspose(filters=3, kernel_size=kernel_size, strides=2, padding='same', kernel_initializer='glorot_normal')(x)\n",
        "x = BatchNormalization()(x)\n",
        "x = LeakyReLU(alpha=0.2)(x)\n",
        "x = Conv2DTranspose(filters=3, kernel_size=kernel_size, strides=2, padding='same', kernel_initializer='glorot_normal')(x)\n",
        "x = BatchNormalization()(x)\n",
        "x = LeakyReLU(alpha=0.2)(x)\n",
        "x = Conv2DTranspose(filters=3, kernel_size=kernel_size, padding='same', kernel_initializer='glorot_normal')(x)\n",
        "x = BatchNormalization()(x)\n",
        "outputs = Activation('sigmoid', name='decoder_output')(x)\n",
        "\n",
        "# Instantiate Decoder Model\n",
        "decoder = Model(latent_inputs, outputs, name='decoder')\n",
        "decoder.summary()"
      ],
      "execution_count": 12,
      "outputs": [
        {
          "output_type": "stream",
          "text": [
            "Model: \"decoder\"\n",
            "_________________________________________________________________\n",
            "Layer (type)                 Output Shape              Param #   \n",
            "=================================================================\n",
            "decoder_input (InputLayer)   (None, 8)                 0         \n",
            "_________________________________________________________________\n",
            "dense_3 (Dense)              (None, 20000)             180000    \n",
            "_________________________________________________________________\n",
            "reshape_3 (Reshape)          (None, 25, 25, 32)        0         \n",
            "_________________________________________________________________\n",
            "conv2d_transpose_11 (Conv2DT (None, 50, 50, 32)        9248      \n",
            "_________________________________________________________________\n",
            "batch_normalization_15 (Batc (None, 50, 50, 32)        128       \n",
            "_________________________________________________________________\n",
            "leaky_re_lu_13 (LeakyReLU)   (None, 50, 50, 32)        0         \n",
            "_________________________________________________________________\n",
            "conv2d_transpose_12 (Conv2DT (None, 100, 100, 16)      4624      \n",
            "_________________________________________________________________\n",
            "batch_normalization_16 (Batc (None, 100, 100, 16)      64        \n",
            "_________________________________________________________________\n",
            "leaky_re_lu_14 (LeakyReLU)   (None, 100, 100, 16)      0         \n",
            "_________________________________________________________________\n",
            "conv2d_transpose_13 (Conv2DT (None, 200, 200, 3)       435       \n",
            "_________________________________________________________________\n",
            "batch_normalization_17 (Batc (None, 200, 200, 3)       12        \n",
            "_________________________________________________________________\n",
            "leaky_re_lu_15 (LeakyReLU)   (None, 200, 200, 3)       0         \n",
            "_________________________________________________________________\n",
            "conv2d_transpose_14 (Conv2DT (None, 400, 400, 3)       84        \n",
            "_________________________________________________________________\n",
            "batch_normalization_18 (Batc (None, 400, 400, 3)       12        \n",
            "_________________________________________________________________\n",
            "leaky_re_lu_16 (LeakyReLU)   (None, 400, 400, 3)       0         \n",
            "_________________________________________________________________\n",
            "conv2d_transpose_15 (Conv2DT (None, 400, 400, 3)       84        \n",
            "_________________________________________________________________\n",
            "batch_normalization_19 (Batc (None, 400, 400, 3)       12        \n",
            "_________________________________________________________________\n",
            "decoder_output (Activation)  (None, 400, 400, 3)       0         \n",
            "=================================================================\n",
            "Total params: 194,703\n",
            "Trainable params: 194,589\n",
            "Non-trainable params: 114\n",
            "_________________________________________________________________\n"
          ],
          "name": "stdout"
        }
      ]
    },
    {
      "cell_type": "code",
      "metadata": {
        "id": "l0uVWYBvjwy9",
        "colab_type": "code",
        "outputId": "2f69d200-8d86-4468-f617-dbb11466e194",
        "colab": {
          "base_uri": "https://localhost:8080/",
          "height": 689
        }
      },
      "source": [
        "disc_inputs = Input(shape=(400,400,3), name='disc_input')\n",
        "x = disc_inputs\n",
        "x = Conv2D(filters=3, kernel_size=kernel_size,strides=1, padding='same', kernel_initializer='glorot_normal')(x)\n",
        "x = BatchNormalization()(x)\n",
        "x = LeakyReLU(alpha=0.2)(x)\n",
        "x = Conv2D(filters=32, kernel_size=kernel_size,strides=2, padding='same', kernel_initializer='glorot_normal')(x)\n",
        "x = BatchNormalization()(x)\n",
        "x = LeakyReLU(alpha=0.2)(x)\n",
        "x = Conv2D(filters=64, kernel_size=kernel_size,strides=2, padding='same', kernel_initializer='glorot_normal')(x)\n",
        "x = BatchNormalization()(x)\n",
        "x = LeakyReLU(alpha=0.2)(x)\n",
        "x = Conv2D(filters=128, kernel_size=kernel_size,strides=2, padding='same', kernel_initializer='glorot_normal')(x)\n",
        "x = BatchNormalization()(x)\n",
        "x = LeakyReLU(alpha=0.2)(x)\n",
        "x = Flatten()(x)\n",
        "x = Dense(16)(x)\n",
        "out = Dense(2, name='out')(x)\n",
        "disc = Model(disc_inputs, out, name='discrim')\n",
        "disc.summary()"
      ],
      "execution_count": 13,
      "outputs": [
        {
          "output_type": "stream",
          "text": [
            "Model: \"discrim\"\n",
            "_________________________________________________________________\n",
            "Layer (type)                 Output Shape              Param #   \n",
            "=================================================================\n",
            "disc_input (InputLayer)      (None, 400, 400, 3)       0         \n",
            "_________________________________________________________________\n",
            "conv2d_5 (Conv2D)            (None, 400, 400, 3)       84        \n",
            "_________________________________________________________________\n",
            "batch_normalization_20 (Batc (None, 400, 400, 3)       12        \n",
            "_________________________________________________________________\n",
            "leaky_re_lu_17 (LeakyReLU)   (None, 400, 400, 3)       0         \n",
            "_________________________________________________________________\n",
            "conv2d_6 (Conv2D)            (None, 200, 200, 32)      896       \n",
            "_________________________________________________________________\n",
            "batch_normalization_21 (Batc (None, 200, 200, 32)      128       \n",
            "_________________________________________________________________\n",
            "leaky_re_lu_18 (LeakyReLU)   (None, 200, 200, 32)      0         \n",
            "_________________________________________________________________\n",
            "conv2d_7 (Conv2D)            (None, 100, 100, 64)      18496     \n",
            "_________________________________________________________________\n",
            "batch_normalization_22 (Batc (None, 100, 100, 64)      256       \n",
            "_________________________________________________________________\n",
            "leaky_re_lu_19 (LeakyReLU)   (None, 100, 100, 64)      0         \n",
            "_________________________________________________________________\n",
            "conv2d_8 (Conv2D)            (None, 50, 50, 128)       73856     \n",
            "_________________________________________________________________\n",
            "batch_normalization_23 (Batc (None, 50, 50, 128)       512       \n",
            "_________________________________________________________________\n",
            "leaky_re_lu_20 (LeakyReLU)   (None, 50, 50, 128)       0         \n",
            "_________________________________________________________________\n",
            "flatten_3 (Flatten)          (None, 320000)            0         \n",
            "_________________________________________________________________\n",
            "dense_4 (Dense)              (None, 16)                5120016   \n",
            "_________________________________________________________________\n",
            "out (Dense)                  (None, 2)                 34        \n",
            "=================================================================\n",
            "Total params: 5,214,290\n",
            "Trainable params: 5,213,836\n",
            "Non-trainable params: 454\n",
            "_________________________________________________________________\n"
          ],
          "name": "stdout"
        }
      ]
    },
    {
      "cell_type": "code",
      "metadata": {
        "id": "dgXOSxOHsel_",
        "colab_type": "code",
        "colab": {}
      },
      "source": [
        "class PlotLosses(keras.callbacks.Callback):\n",
        "    def on_train_begin(self, logs={}):\n",
        "        self.i = 0\n",
        "        self.x = []\n",
        "        self.losses = []\n",
        "        self.val_losses = []\n",
        "        self.fig = plt.figure()\n",
        "        self.logs = []\n",
        "    def on_epoch_end(self, epoch, logs={}):\n",
        "        \n",
        "        self.logs.append(logs)\n",
        "        self.x.append(self.i)\n",
        "        self.losses.append(logs.get('loss'))\n",
        "        self.val_losses.append(logs.get('val_loss'))\n",
        "        self.i += 1\n",
        "        \n",
        "        clear_output(wait=True)\n",
        "        plt.plot(self.x, self.losses, label=\"loss\")\n",
        "        plt.plot(self.x, self.val_losses, label=\"val_loss\")\n",
        "        plt.legend()\n",
        "        plt.show();\n",
        "        plt.savefig('SRCNN', dpi = None)\n",
        "        \n",
        "plot_losses = PlotLosses()"
      ],
      "execution_count": 0,
      "outputs": []
    },
    {
      "cell_type": "code",
      "metadata": {
        "id": "cXlnn4Iljzz6",
        "colab_type": "code",
        "outputId": "a58bb679-0cce-4a1e-ea3d-9fb4be8a87a6",
        "colab": {
          "base_uri": "https://localhost:8080/",
          "height": 1000
        }
      },
      "source": [
        "from keras.optimizers import SGD,RMSprop,Adam\n",
        "sgd = SGD(lr=1e-2, clipnorm=1, clipvalue=0.5)\n",
        "\n",
        "\n",
        "disc.compile(loss='binary_crossentropy', optimizer=sgd,  metrics=['acc'])\n",
        "gen = Model(inputs, decoder(encoder(inputs)), name='Generator')\n",
        "z = Input(shape=((100,100,3,)))\n",
        "img = gen(z)\n",
        "disc.summary()\n",
        "disc.trainable = False\n",
        "valid = disc(img)\n",
        "gan = Model(z, valid, name='GAN')\n",
        "\n",
        "gan.compile(loss='binary_crossentropy',  optimizer=sgd,  metrics=['acc'])\n",
        "\n",
        "gan.summary()\n"
      ],
      "execution_count": 15,
      "outputs": [
        {
          "output_type": "stream",
          "text": [
            "WARNING:tensorflow:From /usr/local/lib/python3.6/dist-packages/keras/optimizers.py:793: The name tf.train.Optimizer is deprecated. Please use tf.compat.v1.train.Optimizer instead.\n",
            "\n",
            "WARNING:tensorflow:From /usr/local/lib/python3.6/dist-packages/keras/backend/tensorflow_backend.py:3657: The name tf.log is deprecated. Please use tf.math.log instead.\n",
            "\n",
            "WARNING:tensorflow:From /usr/local/lib/python3.6/dist-packages/tensorflow_core/python/ops/nn_impl.py:183: where (from tensorflow.python.ops.array_ops) is deprecated and will be removed in a future version.\n",
            "Instructions for updating:\n",
            "Use tf.where in 2.0, which has the same broadcast rule as np.where\n",
            "Model: \"discrim\"\n",
            "_________________________________________________________________\n",
            "Layer (type)                 Output Shape              Param #   \n",
            "=================================================================\n",
            "disc_input (InputLayer)      (None, 400, 400, 3)       0         \n",
            "_________________________________________________________________\n",
            "conv2d_5 (Conv2D)            (None, 400, 400, 3)       84        \n",
            "_________________________________________________________________\n",
            "batch_normalization_20 (Batc (None, 400, 400, 3)       12        \n",
            "_________________________________________________________________\n",
            "leaky_re_lu_17 (LeakyReLU)   (None, 400, 400, 3)       0         \n",
            "_________________________________________________________________\n",
            "conv2d_6 (Conv2D)            (None, 200, 200, 32)      896       \n",
            "_________________________________________________________________\n",
            "batch_normalization_21 (Batc (None, 200, 200, 32)      128       \n",
            "_________________________________________________________________\n",
            "leaky_re_lu_18 (LeakyReLU)   (None, 200, 200, 32)      0         \n",
            "_________________________________________________________________\n",
            "conv2d_7 (Conv2D)            (None, 100, 100, 64)      18496     \n",
            "_________________________________________________________________\n",
            "batch_normalization_22 (Batc (None, 100, 100, 64)      256       \n",
            "_________________________________________________________________\n",
            "leaky_re_lu_19 (LeakyReLU)   (None, 100, 100, 64)      0         \n",
            "_________________________________________________________________\n",
            "conv2d_8 (Conv2D)            (None, 50, 50, 128)       73856     \n",
            "_________________________________________________________________\n",
            "batch_normalization_23 (Batc (None, 50, 50, 128)       512       \n",
            "_________________________________________________________________\n",
            "leaky_re_lu_20 (LeakyReLU)   (None, 50, 50, 128)       0         \n",
            "_________________________________________________________________\n",
            "flatten_3 (Flatten)          (None, 320000)            0         \n",
            "_________________________________________________________________\n",
            "dense_4 (Dense)              (None, 16)                5120016   \n",
            "_________________________________________________________________\n",
            "out (Dense)                  (None, 2)                 34        \n",
            "=================================================================\n",
            "Total params: 5,214,290\n",
            "Trainable params: 5,213,836\n",
            "Non-trainable params: 454\n",
            "_________________________________________________________________\n",
            "Model: \"GAN\"\n",
            "_________________________________________________________________\n",
            "Layer (type)                 Output Shape              Param #   \n",
            "=================================================================\n",
            "input_1 (InputLayer)         (None, 100, 100, 3)       0         \n",
            "_________________________________________________________________\n",
            "Generator (Model)            (None, 400, 400, 3)       359991    \n",
            "_________________________________________________________________\n",
            "discrim (Model)              (None, 2)                 5214290   \n",
            "=================================================================\n",
            "Total params: 5,574,281\n",
            "Trainable params: 359,781\n",
            "Non-trainable params: 5,214,500\n",
            "_________________________________________________________________\n"
          ],
          "name": "stdout"
        }
      ]
    },
    {
      "cell_type": "code",
      "metadata": {
        "id": "Bb7GCC1CsgT1",
        "colab_type": "code",
        "outputId": "cde3662b-37c5-4d0c-ae4e-d439e88f0bb2",
        "colab": {
          "base_uri": "https://localhost:8080/",
          "height": 298
        }
      },
      "source": [
        "gen.compile(loss='mean_squared_logarithmic_error', optimizer=sgd,  metrics=['acc'])\n",
        "gen.fit(x_train,target_data_train, validation_data=(x_test, target_data_test), callbacks=[plot_losses], verbose=0, epochs=1000, batch_size=1)"
      ],
      "execution_count": 16,
      "outputs": [
        {
          "output_type": "display_data",
          "data": {
            "image/png": "[encoded data removed]",
            "text/plain": [
              "<Figure size 432x288 with 1 Axes>"
            ]
          },
          "metadata": {
            "tags": []
          }
        },
        {
          "output_type": "execute_result",
          "data": {
            "text/plain": [
              "<keras.callbacks.History at 0x7f8c96bc2128>"
            ]
          },
          "metadata": {
            "tags": []
          },
          "execution_count": 16
        },
        {
          "output_type": "display_data",
          "data": {
            "text/plain": [
              "<Figure size 432x288 with 0 Axes>"
            ]
          },
          "metadata": {
            "tags": []
          }
        }
      ]
    },
    {
      "cell_type": "code",
      "metadata": {
        "id": "cjU0yO5yj29_",
        "colab_type": "code",
        "outputId": "66060993-faa3-4b23-8a6e-9efdcee49003",
        "colab": {
          "base_uri": "https://localhost:8080/",
          "height": 1000
        }
      },
      "source": [
        "train = []\n",
        "epoch=30\n",
        "num_sample=5\n",
        "num_classes = 2\n",
        "\n",
        "for epoch in range (epoch):\n",
        "  #gen.fit(x_train,target_data_train, validation_data=(x_test, target_data_test), callbacks=[plot_losses], verbose=0, epochs=100, batch_size=1)\n",
        "  real_labels = np.ones((5,2))\n",
        "  fake_labels = np.zeros((5,2))\n",
        "    #----------------\n",
        "    #Train on just the discrim\n",
        "    #----------------\n",
        "    #train on real\n",
        "  print(\"Train on real\")\n",
        "  d_loss_real = disc.train_on_batch(target_data_train,real_labels)\n",
        "    #train on fake\n",
        "  fake = gen.predict(x_train)\n",
        "  d_loss_fake = disc.train_on_batch(fake, fake_labels)\n",
        "    #average of the loss\n",
        "  print(\"Train on fake\")\n",
        "  d_loss = 0.5 *np.add(d_loss_real, d_loss_fake)\n",
        "    #----------------\n",
        "    #Train on entire model\n",
        "    #----------------\n",
        "  print('GAN TRAIN')\n",
        "  g_loss = gan.train_on_batch(x_train, fake_labels) \n",
        "  print (\"%d [D loss: %f, acc.: %.2f%%] [G loss: %f]\" % (epoch, d_loss[0], 100*d_loss[1], g_loss[0]))\n",
        "    # If at save interval => save generated image samples\n"
      ],
      "execution_count": 18,
      "outputs": [
        {
          "output_type": "stream",
          "text": [
            "Train on real\n"
          ],
          "name": "stdout"
        },
        {
          "output_type": "stream",
          "text": [
            "/usr/local/lib/python3.6/dist-packages/keras/engine/training.py:493: UserWarning: Discrepancy between trainable weights and collected trainable weights, did you set `model.trainable` without calling `model.compile` after ?\n",
            "  'Discrepancy between trainable weights and collected trainable'\n",
            "/usr/local/lib/python3.6/dist-packages/keras/engine/training.py:493: UserWarning: Discrepancy between trainable weights and collected trainable weights, did you set `model.trainable` without calling `model.compile` after ?\n",
            "  'Discrepancy between trainable weights and collected trainable'\n"
          ],
          "name": "stderr"
        },
        {
          "output_type": "stream",
          "text": [
            "Train on fake\n",
            "GAN TRAIN\n",
            "0 [D loss: 7.587004, acc.: 20.00%] [G loss: 1.639143]\n",
            "Train on real\n",
            "Train on fake\n",
            "GAN TRAIN\n",
            "1 [D loss: 3.444163, acc.: 20.00%] [G loss: 0.000000]\n",
            "Train on real\n",
            "Train on fake\n",
            "GAN TRAIN\n"
          ],
          "name": "stdout"
        },
        {
          "output_type": "stream",
          "text": [
            "/usr/local/lib/python3.6/dist-packages/keras/engine/training.py:493: UserWarning: Discrepancy between trainable weights and collected trainable weights, did you set `model.trainable` without calling `model.compile` after ?\n",
            "  'Discrepancy between trainable weights and collected trainable'\n"
          ],
          "name": "stderr"
        },
        {
          "output_type": "stream",
          "text": [
            "2 [D loss: 3.230072, acc.: 15.00%] [G loss: 0.000000]\n",
            "Train on real\n",
            "Train on fake\n",
            "GAN TRAIN\n",
            "3 [D loss: 1.779929, acc.: 20.00%] [G loss: 0.000000]\n",
            "Train on real\n",
            "Train on fake\n",
            "GAN TRAIN\n",
            "4 [D loss: 1.611809, acc.: 10.00%] [G loss: 0.000000]\n",
            "Train on real\n",
            "Train on fake\n",
            "GAN TRAIN\n",
            "5 [D loss: 1.611809, acc.: 10.00%] [G loss: 0.000000]\n",
            "Train on real\n",
            "Train on fake\n",
            "GAN TRAIN\n",
            "6 [D loss: 1.611809, acc.: 10.00%] [G loss: 0.000000]\n",
            "Train on real\n",
            "Train on fake\n",
            "GAN TRAIN\n",
            "7 [D loss: 1.611809, acc.: 10.00%] [G loss: 0.000000]\n",
            "Train on real\n",
            "Train on fake\n",
            "GAN TRAIN\n",
            "8 [D loss: 1.611809, acc.: 10.00%] [G loss: 0.000000]\n",
            "Train on real\n",
            "Train on fake\n",
            "GAN TRAIN\n",
            "9 [D loss: 1.611809, acc.: 10.00%] [G loss: 0.000000]\n",
            "Train on real\n",
            "Train on fake\n",
            "GAN TRAIN\n",
            "10 [D loss: 1.611809, acc.: 10.00%] [G loss: 0.000000]\n",
            "Train on real\n",
            "Train on fake\n",
            "GAN TRAIN\n",
            "11 [D loss: 1.611809, acc.: 10.00%] [G loss: 0.000000]\n",
            "Train on real\n",
            "Train on fake\n",
            "GAN TRAIN\n",
            "12 [D loss: 1.611809, acc.: 10.00%] [G loss: 0.000000]\n",
            "Train on real\n",
            "Train on fake\n",
            "GAN TRAIN\n",
            "13 [D loss: 1.611809, acc.: 10.00%] [G loss: 0.000000]\n",
            "Train on real\n",
            "Train on fake\n",
            "GAN TRAIN\n",
            "14 [D loss: 1.611809, acc.: 10.00%] [G loss: 0.000000]\n",
            "Train on real\n",
            "Train on fake\n",
            "GAN TRAIN\n",
            "15 [D loss: 1.611809, acc.: 10.00%] [G loss: 0.000000]\n",
            "Train on real\n",
            "Train on fake\n",
            "GAN TRAIN\n",
            "16 [D loss: 1.611809, acc.: 10.00%] [G loss: 0.000000]\n",
            "Train on real\n",
            "Train on fake\n",
            "GAN TRAIN\n",
            "17 [D loss: 1.611809, acc.: 10.00%] [G loss: 0.000000]\n",
            "Train on real\n",
            "Train on fake\n",
            "GAN TRAIN\n",
            "18 [D loss: 1.611809, acc.: 10.00%] [G loss: 0.000000]\n",
            "Train on real\n",
            "Train on fake\n",
            "GAN TRAIN\n",
            "19 [D loss: 1.611809, acc.: 10.00%] [G loss: 0.000000]\n",
            "Train on real\n",
            "Train on fake\n",
            "GAN TRAIN\n",
            "20 [D loss: 1.611809, acc.: 10.00%] [G loss: 0.000000]\n",
            "Train on real\n",
            "Train on fake\n",
            "GAN TRAIN\n",
            "21 [D loss: 1.611809, acc.: 10.00%] [G loss: 0.000000]\n",
            "Train on real\n",
            "Train on fake\n",
            "GAN TRAIN\n",
            "22 [D loss: 1.611809, acc.: 10.00%] [G loss: 0.000000]\n",
            "Train on real\n",
            "Train on fake\n",
            "GAN TRAIN\n",
            "23 [D loss: 1.611809, acc.: 10.00%] [G loss: 0.000000]\n",
            "Train on real\n",
            "Train on fake\n",
            "GAN TRAIN\n",
            "24 [D loss: 1.611809, acc.: 10.00%] [G loss: 0.000000]\n",
            "Train on real\n",
            "Train on fake\n",
            "GAN TRAIN\n",
            "25 [D loss: 1.611809, acc.: 10.00%] [G loss: 0.000000]\n",
            "Train on real\n",
            "Train on fake\n",
            "GAN TRAIN\n",
            "26 [D loss: 1.611809, acc.: 10.00%] [G loss: 0.000000]\n",
            "Train on real\n",
            "Train on fake\n",
            "GAN TRAIN\n",
            "27 [D loss: 1.611809, acc.: 10.00%] [G loss: 0.000000]\n",
            "Train on real\n",
            "Train on fake\n",
            "GAN TRAIN\n",
            "28 [D loss: 1.611809, acc.: 10.00%] [G loss: 0.000000]\n",
            "Train on real\n",
            "Train on fake\n",
            "GAN TRAIN\n",
            "29 [D loss: 1.611809, acc.: 10.00%] [G loss: 0.000000]\n"
          ],
          "name": "stdout"
        }
      ]
    },
    {
      "cell_type": "code",
      "metadata": {
        "id": "5n9eBIYXQJCY",
        "colab_type": "code",
        "outputId": "8a9e97ff-839c-465c-b205-e5669c23f81d",
        "colab": {
          "base_uri": "https://localhost:8080/",
          "height": 301
        }
      },
      "source": [
        "sgd = SGD(lr=100, clipnorm=1, clipvalue=0.5)\n",
        "gen.compile(loss='mean_squared_logarithmic_error', optimizer=sgd,  metrics=['acc'])\n",
        "gen.fit(x_train,target_data_train, validation_data=(x_test, target_data_test), callbacks=[plot_losses], verbose=0, epochs=500, batch_size=1)"
      ],
      "execution_count": 40,
      "outputs": [
        {
          "output_type": "display_data",
          "data": {
            "image/png": "[encoded data removed]",
            "text/plain": [
              "<Figure size 432x288 with 1 Axes>"
            ]
          },
          "metadata": {
            "tags": []
          }
        },
        {
          "output_type": "execute_result",
          "data": {
            "text/plain": [
              "<keras.callbacks.History at 0x7f8c411da668>"
            ]
          },
          "metadata": {
            "tags": []
          },
          "execution_count": 40
        },
        {
          "output_type": "display_data",
          "data": {
            "text/plain": [
              "<Figure size 432x288 with 0 Axes>"
            ]
          },
          "metadata": {
            "tags": []
          }
        }
      ]
    },
    {
      "cell_type": "code",
      "metadata": {
        "id": "WaWpjPCSkhj0",
        "colab_type": "code",
        "colab": {}
      },
      "source": [
        "fname = '500_epochs_medical_SRGAN.h5'\n",
        "gen.save(fname,overwrite=True)\n",
        "from keras.models import load_model"
      ],
      "execution_count": 0,
      "outputs": []
    },
    {
      "cell_type": "code",
      "metadata": {
        "id": "unAGYw76S2be",
        "colab_type": "code",
        "colab": {}
      },
      "source": [
        "fname = '500_epochs_medical_SRGAN.h5'\n",
        "gen=load_model(fname)"
      ],
      "execution_count": 0,
      "outputs": []
    },
    {
      "cell_type": "code",
      "metadata": {
        "id": "hlxJ3RQ0vx39",
        "colab_type": "code",
        "outputId": "5470067b-4497-4d8e-8a4a-04e434ed3ba5",
        "colab": {
          "base_uri": "https://localhost:8080/",
          "height": 34
        }
      },
      "source": [
        "model_json = gen.to_json()\n",
        "with open(\"gen.json\", \"w\") as json_file:\n",
        "    json_file.write(model_json)\n",
        "# serialize weights to HDF5\n",
        "gen.save_weights(\"500_epochs_gen.h5\")\n",
        "print(\"Saved model to disk\")"
      ],
      "execution_count": 43,
      "outputs": [
        {
          "output_type": "stream",
          "text": [
            "Saved model to disk\n"
          ],
          "name": "stdout"
        }
      ]
    },
    {
      "cell_type": "code",
      "metadata": {
        "id": "FLNfoau4klc8",
        "colab_type": "code",
        "outputId": "b9233056-115d-42bf-cfef-667cad6edf90",
        "colab": {
          "base_uri": "https://localhost:8080/",
          "height": 537
        }
      },
      "source": [
        "x_decoded = gen.predict(x_train)\n",
        "from PIL import Image\n",
        "print(x_decoded.shape)\n",
        "test = x_decoded[0, : , :, :]\n",
        "test =(test*255).astype(np.uint8)\n",
        "plt.imshow(test,  interpolation='none', cmap='gray')\n",
        "plt.show()\n",
        "Image.fromarray(test).save('decode2.png')\n",
        "test1 = x_train[0, :, :, :]\n",
        "test1 =(test1*255).astype(np.uint8)\n",
        "plt.imshow(test1,  interpolation='none', cmap='gray')\n",
        "plt.show()\n",
        "Image.fromarray(test1).save('encode2.png')"
      ],
      "execution_count": 45,
      "outputs": [
        {
          "output_type": "stream",
          "text": [
            "(5, 400, 400, 3)\n"
          ],
          "name": "stdout"
        },
        {
          "output_type": "display_data",
          "data": {
            "image/png": "[encoded data removed]",
            "text/plain": [
              "<Figure size 432x288 with 1 Axes>"
            ]
          },
          "metadata": {
            "tags": []
          }
        },
        {
          "output_type": "display_data",
          "data": {
            "image/png": "[encoded data removed]",
            "text/plain": [
              "<Figure size 432x288 with 1 Axes>"
            ]
          },
          "metadata": {
            "tags": []
          }
        }
      ]
    }
  ]
}